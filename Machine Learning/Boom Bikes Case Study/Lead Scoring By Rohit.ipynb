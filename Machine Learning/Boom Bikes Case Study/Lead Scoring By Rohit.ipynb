{
 "cells": [
  {
   "cell_type": "markdown",
   "metadata": {},
   "source": [
    "# Lead Score  Group Case Study\n",
    "submitted by\n",
    "- Rohit Panjabi\n",
    "- Rahul Singh"
   ]
  },
  {
   "cell_type": "markdown",
   "metadata": {},
   "source": [
    "## Problem Statement\n",
    "An X Education need help to select the most promising leads, i.e. the leads that are most likely to convert into paying customers. The company requires us to build a model wherein you need to assign a lead score to each of the leads such that the customers with higher lead score have a higher conversion chance and the customers with lower lead score have a lower conversion chance. The CEO, in particular, has given a ballpark of the target lead conversion rate to be around 80%. <br>\n",
    "## Goals and Objectives\n",
    "There are quite a few goals for this case study.\n",
    "- Build a logistic regression model to assign a lead score between 0 and 100 to each of the leads which can be used by the company to target potential leads. A higher score would mean that the lead is hot, i.e. is most likely to convert whereas a lower score would mean that the lead is cold and will mostly not get converted.\n",
    "- There are some more problems presented by the company which your model should be able to adjust to if the company's requirement changes in the future so you will need to handle these as well. These problems are provided in a separate doc file. Please fill it based on the logistic regression model you got in the first step. Also, make sure you include this in your final PPT where you'll make recommendations."
   ]
  },
  {
   "cell_type": "markdown",
   "metadata": {},
   "source": [
    "### Importing the required  libraries"
   ]
  },
  {
   "cell_type": "code",
   "execution_count": 1,
   "metadata": {},
   "outputs": [],
   "source": [
    "import numpy as np\n",
    "import pandas as pd\n",
    "import seaborn as sns\n",
    "import matplotlib.pyplot as plt\n",
    "\n",
    "# machine learning libraries\n",
    "\n",
    "import statsmodels.api as sm\n",
    "from sklearn.model_selection import train_test_split\n",
    "from sklearn.preprocessing import StandardScaler\n",
    "from sklearn.linear_model import LogisticRegression\n",
    "from statsmodels.stats.outliers_influence import variance_inflation_factor\n",
    "from sklearn.feature_selection import RFE\n",
    "from sklearn.metrics import confusion_matrix\n",
    "\n",
    "from sklearn.metrics import roc_curve,roc_auc_score\n",
    "\n",
    "import warnings\n",
    "warnings.filterwarnings('ignore')\n"
   ]
  },
  {
   "cell_type": "code",
   "execution_count": 2,
   "metadata": {},
   "outputs": [],
   "source": [
    "data_dict=pd.read_excel('Leads Data Dictionary.xlsx',skiprows=2,index_col=1)\n",
    "data_dict.drop('Unnamed: 0',axis=1,inplace=True)"
   ]
  },
  {
   "cell_type": "code",
   "execution_count": 3,
   "metadata": {
    "scrolled": true
   },
   "outputs": [
    {
     "data": {
      "text/html": [
       "<div>\n",
       "<style scoped>\n",
       "    .dataframe tbody tr th:only-of-type {\n",
       "        vertical-align: middle;\n",
       "    }\n",
       "\n",
       "    .dataframe tbody tr th {\n",
       "        vertical-align: top;\n",
       "    }\n",
       "\n",
       "    .dataframe thead th {\n",
       "        text-align: right;\n",
       "    }\n",
       "</style>\n",
       "<table border=\"1\" class=\"dataframe\">\n",
       "  <thead>\n",
       "    <tr style=\"text-align: right;\">\n",
       "      <th></th>\n",
       "      <th>Description</th>\n",
       "    </tr>\n",
       "    <tr>\n",
       "      <th>Variables</th>\n",
       "      <th></th>\n",
       "    </tr>\n",
       "  </thead>\n",
       "  <tbody>\n",
       "    <tr>\n",
       "      <th>Prospect ID</th>\n",
       "      <td>A unique ID with which the customer is identif...</td>\n",
       "    </tr>\n",
       "    <tr>\n",
       "      <th>Lead Number</th>\n",
       "      <td>A lead number assigned to each lead procured.</td>\n",
       "    </tr>\n",
       "    <tr>\n",
       "      <th>Lead Origin</th>\n",
       "      <td>The origin identifier with which the customer ...</td>\n",
       "    </tr>\n",
       "    <tr>\n",
       "      <th>Lead Source</th>\n",
       "      <td>The source of the lead. Includes Google, Organ...</td>\n",
       "    </tr>\n",
       "    <tr>\n",
       "      <th>Do Not Email</th>\n",
       "      <td>An indicator variable selected by the customer...</td>\n",
       "    </tr>\n",
       "    <tr>\n",
       "      <th>Do Not Call</th>\n",
       "      <td>An indicator variable selected by the customer...</td>\n",
       "    </tr>\n",
       "    <tr>\n",
       "      <th>Converted</th>\n",
       "      <td>The target variable. Indicates whether a lead ...</td>\n",
       "    </tr>\n",
       "    <tr>\n",
       "      <th>TotalVisits</th>\n",
       "      <td>The total number of visits made by the custome...</td>\n",
       "    </tr>\n",
       "    <tr>\n",
       "      <th>Total Time Spent on Website</th>\n",
       "      <td>The total time spent by the customer on the we...</td>\n",
       "    </tr>\n",
       "    <tr>\n",
       "      <th>Page Views Per Visit</th>\n",
       "      <td>Average number of pages on the website viewed ...</td>\n",
       "    </tr>\n",
       "    <tr>\n",
       "      <th>Last Activity</th>\n",
       "      <td>Last activity performed by the customer. Inclu...</td>\n",
       "    </tr>\n",
       "    <tr>\n",
       "      <th>Country</th>\n",
       "      <td>The country of the customer.</td>\n",
       "    </tr>\n",
       "    <tr>\n",
       "      <th>Specialization</th>\n",
       "      <td>The industry domain in which the customer work...</td>\n",
       "    </tr>\n",
       "    <tr>\n",
       "      <th>How did you hear about X Education</th>\n",
       "      <td>The source from which the customer heard about...</td>\n",
       "    </tr>\n",
       "    <tr>\n",
       "      <th>What is your current occupation</th>\n",
       "      <td>Indicates whether the customer is a student, u...</td>\n",
       "    </tr>\n",
       "    <tr>\n",
       "      <th>What matters most to you in choosing this course</th>\n",
       "      <td>An option selected by the customer indicating ...</td>\n",
       "    </tr>\n",
       "    <tr>\n",
       "      <th>Search</th>\n",
       "      <td>Indicating whether the customer had seen the a...</td>\n",
       "    </tr>\n",
       "    <tr>\n",
       "      <th>Magazine</th>\n",
       "      <td>NaN</td>\n",
       "    </tr>\n",
       "    <tr>\n",
       "      <th>Newspaper Article</th>\n",
       "      <td>NaN</td>\n",
       "    </tr>\n",
       "    <tr>\n",
       "      <th>X Education Forums</th>\n",
       "      <td>NaN</td>\n",
       "    </tr>\n",
       "    <tr>\n",
       "      <th>Newspaper</th>\n",
       "      <td>NaN</td>\n",
       "    </tr>\n",
       "    <tr>\n",
       "      <th>Digital Advertisement</th>\n",
       "      <td>NaN</td>\n",
       "    </tr>\n",
       "    <tr>\n",
       "      <th>Through Recommendations</th>\n",
       "      <td>Indicates whether the customer came in through...</td>\n",
       "    </tr>\n",
       "    <tr>\n",
       "      <th>Receive More Updates About Our Courses</th>\n",
       "      <td>Indicates whether the customer chose to receiv...</td>\n",
       "    </tr>\n",
       "    <tr>\n",
       "      <th>Tags</th>\n",
       "      <td>Tags assigned to customers indicating the curr...</td>\n",
       "    </tr>\n",
       "    <tr>\n",
       "      <th>Lead Quality</th>\n",
       "      <td>Indicates the quality of lead based on the dat...</td>\n",
       "    </tr>\n",
       "    <tr>\n",
       "      <th>Update me on Supply Chain Content</th>\n",
       "      <td>Indicates whether the customer wants updates o...</td>\n",
       "    </tr>\n",
       "    <tr>\n",
       "      <th>Get updates on DM Content</th>\n",
       "      <td>Indicates whether the customer wants updates o...</td>\n",
       "    </tr>\n",
       "    <tr>\n",
       "      <th>Lead Profile</th>\n",
       "      <td>A lead level assigned to each customer based o...</td>\n",
       "    </tr>\n",
       "    <tr>\n",
       "      <th>City</th>\n",
       "      <td>The city of the customer.</td>\n",
       "    </tr>\n",
       "    <tr>\n",
       "      <th>Asymmetrique Activity Index</th>\n",
       "      <td>An index and score assigned to each customer b...</td>\n",
       "    </tr>\n",
       "    <tr>\n",
       "      <th>Asymmetrique Profile Index</th>\n",
       "      <td>NaN</td>\n",
       "    </tr>\n",
       "    <tr>\n",
       "      <th>Asymmetrique Activity Score</th>\n",
       "      <td>NaN</td>\n",
       "    </tr>\n",
       "    <tr>\n",
       "      <th>Asymmetrique Profile Score</th>\n",
       "      <td>NaN</td>\n",
       "    </tr>\n",
       "    <tr>\n",
       "      <th>I agree to pay the amount through cheque</th>\n",
       "      <td>Indicates whether the customer has agreed to p...</td>\n",
       "    </tr>\n",
       "    <tr>\n",
       "      <th>a free copy of Mastering The Interview</th>\n",
       "      <td>Indicates whether the customer wants a free co...</td>\n",
       "    </tr>\n",
       "    <tr>\n",
       "      <th>Last Notable Activity</th>\n",
       "      <td>The last notable acitivity performed by the st...</td>\n",
       "    </tr>\n",
       "  </tbody>\n",
       "</table>\n",
       "</div>"
      ],
      "text/plain": [
       "                                                                                        Description\n",
       "Variables                                                                                          \n",
       "Prospect ID                                       A unique ID with which the customer is identif...\n",
       "Lead Number                                           A lead number assigned to each lead procured.\n",
       "Lead Origin                                       The origin identifier with which the customer ...\n",
       "Lead Source                                       The source of the lead. Includes Google, Organ...\n",
       "Do Not Email                                      An indicator variable selected by the customer...\n",
       "Do Not Call                                       An indicator variable selected by the customer...\n",
       "Converted                                         The target variable. Indicates whether a lead ...\n",
       "TotalVisits                                       The total number of visits made by the custome...\n",
       "Total Time Spent on Website                       The total time spent by the customer on the we...\n",
       "Page Views Per Visit                              Average number of pages on the website viewed ...\n",
       "Last Activity                                     Last activity performed by the customer. Inclu...\n",
       "Country                                                                The country of the customer.\n",
       "Specialization                                    The industry domain in which the customer work...\n",
       "How did you hear about X Education                The source from which the customer heard about...\n",
       "What is your current occupation                   Indicates whether the customer is a student, u...\n",
       "What matters most to you in choosing this course  An option selected by the customer indicating ...\n",
       "Search                                            Indicating whether the customer had seen the a...\n",
       "Magazine                                                                                        NaN\n",
       "Newspaper Article                                                                               NaN\n",
       "X Education Forums                                                                              NaN\n",
       "Newspaper                                                                                       NaN\n",
       "Digital Advertisement                                                                           NaN\n",
       "Through Recommendations                           Indicates whether the customer came in through...\n",
       "Receive More Updates About Our Courses            Indicates whether the customer chose to receiv...\n",
       "Tags                                              Tags assigned to customers indicating the curr...\n",
       "Lead Quality                                      Indicates the quality of lead based on the dat...\n",
       "Update me on Supply Chain Content                 Indicates whether the customer wants updates o...\n",
       "Get updates on DM Content                         Indicates whether the customer wants updates o...\n",
       "Lead Profile                                      A lead level assigned to each customer based o...\n",
       "City                                                                      The city of the customer.\n",
       "Asymmetrique Activity Index                       An index and score assigned to each customer b...\n",
       "Asymmetrique Profile Index                                                                      NaN\n",
       "Asymmetrique Activity Score                                                                     NaN\n",
       "Asymmetrique Profile Score                                                                      NaN\n",
       "I agree to pay the amount through cheque          Indicates whether the customer has agreed to p...\n",
       "a free copy of Mastering The Interview            Indicates whether the customer wants a free co...\n",
       "Last Notable Activity                             The last notable acitivity performed by the st..."
      ]
     },
     "execution_count": 3,
     "metadata": {},
     "output_type": "execute_result"
    }
   ],
   "source": [
    "data_dict"
   ]
  },
  {
   "cell_type": "code",
   "execution_count": 4,
   "metadata": {},
   "outputs": [
    {
     "data": {
      "text/html": [
       "<div>\n",
       "<style scoped>\n",
       "    .dataframe tbody tr th:only-of-type {\n",
       "        vertical-align: middle;\n",
       "    }\n",
       "\n",
       "    .dataframe tbody tr th {\n",
       "        vertical-align: top;\n",
       "    }\n",
       "\n",
       "    .dataframe thead th {\n",
       "        text-align: right;\n",
       "    }\n",
       "</style>\n",
       "<table border=\"1\" class=\"dataframe\">\n",
       "  <thead>\n",
       "    <tr style=\"text-align: right;\">\n",
       "      <th></th>\n",
       "      <th>Prospect ID</th>\n",
       "      <th>Lead Number</th>\n",
       "      <th>Lead Origin</th>\n",
       "      <th>Lead Source</th>\n",
       "      <th>Do Not Email</th>\n",
       "      <th>Do Not Call</th>\n",
       "      <th>Converted</th>\n",
       "      <th>TotalVisits</th>\n",
       "      <th>Total Time Spent on Website</th>\n",
       "      <th>Page Views Per Visit</th>\n",
       "      <th>...</th>\n",
       "      <th>Get updates on DM Content</th>\n",
       "      <th>Lead Profile</th>\n",
       "      <th>City</th>\n",
       "      <th>Asymmetrique Activity Index</th>\n",
       "      <th>Asymmetrique Profile Index</th>\n",
       "      <th>Asymmetrique Activity Score</th>\n",
       "      <th>Asymmetrique Profile Score</th>\n",
       "      <th>I agree to pay the amount through cheque</th>\n",
       "      <th>A free copy of Mastering The Interview</th>\n",
       "      <th>Last Notable Activity</th>\n",
       "    </tr>\n",
       "  </thead>\n",
       "  <tbody>\n",
       "    <tr>\n",
       "      <th>0</th>\n",
       "      <td>7927b2df-8bba-4d29-b9a2-b6e0beafe620</td>\n",
       "      <td>660737</td>\n",
       "      <td>API</td>\n",
       "      <td>Olark Chat</td>\n",
       "      <td>No</td>\n",
       "      <td>No</td>\n",
       "      <td>0</td>\n",
       "      <td>0.0</td>\n",
       "      <td>0</td>\n",
       "      <td>0.0</td>\n",
       "      <td>...</td>\n",
       "      <td>No</td>\n",
       "      <td>Select</td>\n",
       "      <td>Select</td>\n",
       "      <td>02.Medium</td>\n",
       "      <td>02.Medium</td>\n",
       "      <td>15.0</td>\n",
       "      <td>15.0</td>\n",
       "      <td>No</td>\n",
       "      <td>No</td>\n",
       "      <td>Modified</td>\n",
       "    </tr>\n",
       "    <tr>\n",
       "      <th>1</th>\n",
       "      <td>2a272436-5132-4136-86fa-dcc88c88f482</td>\n",
       "      <td>660728</td>\n",
       "      <td>API</td>\n",
       "      <td>Organic Search</td>\n",
       "      <td>No</td>\n",
       "      <td>No</td>\n",
       "      <td>0</td>\n",
       "      <td>5.0</td>\n",
       "      <td>674</td>\n",
       "      <td>2.5</td>\n",
       "      <td>...</td>\n",
       "      <td>No</td>\n",
       "      <td>Select</td>\n",
       "      <td>Select</td>\n",
       "      <td>02.Medium</td>\n",
       "      <td>02.Medium</td>\n",
       "      <td>15.0</td>\n",
       "      <td>15.0</td>\n",
       "      <td>No</td>\n",
       "      <td>No</td>\n",
       "      <td>Email Opened</td>\n",
       "    </tr>\n",
       "    <tr>\n",
       "      <th>2</th>\n",
       "      <td>8cc8c611-a219-4f35-ad23-fdfd2656bd8a</td>\n",
       "      <td>660727</td>\n",
       "      <td>Landing Page Submission</td>\n",
       "      <td>Direct Traffic</td>\n",
       "      <td>No</td>\n",
       "      <td>No</td>\n",
       "      <td>1</td>\n",
       "      <td>2.0</td>\n",
       "      <td>1532</td>\n",
       "      <td>2.0</td>\n",
       "      <td>...</td>\n",
       "      <td>No</td>\n",
       "      <td>Potential Lead</td>\n",
       "      <td>Mumbai</td>\n",
       "      <td>02.Medium</td>\n",
       "      <td>01.High</td>\n",
       "      <td>14.0</td>\n",
       "      <td>20.0</td>\n",
       "      <td>No</td>\n",
       "      <td>Yes</td>\n",
       "      <td>Email Opened</td>\n",
       "    </tr>\n",
       "    <tr>\n",
       "      <th>3</th>\n",
       "      <td>0cc2df48-7cf4-4e39-9de9-19797f9b38cc</td>\n",
       "      <td>660719</td>\n",
       "      <td>Landing Page Submission</td>\n",
       "      <td>Direct Traffic</td>\n",
       "      <td>No</td>\n",
       "      <td>No</td>\n",
       "      <td>0</td>\n",
       "      <td>1.0</td>\n",
       "      <td>305</td>\n",
       "      <td>1.0</td>\n",
       "      <td>...</td>\n",
       "      <td>No</td>\n",
       "      <td>Select</td>\n",
       "      <td>Mumbai</td>\n",
       "      <td>02.Medium</td>\n",
       "      <td>01.High</td>\n",
       "      <td>13.0</td>\n",
       "      <td>17.0</td>\n",
       "      <td>No</td>\n",
       "      <td>No</td>\n",
       "      <td>Modified</td>\n",
       "    </tr>\n",
       "    <tr>\n",
       "      <th>4</th>\n",
       "      <td>3256f628-e534-4826-9d63-4a8b88782852</td>\n",
       "      <td>660681</td>\n",
       "      <td>Landing Page Submission</td>\n",
       "      <td>Google</td>\n",
       "      <td>No</td>\n",
       "      <td>No</td>\n",
       "      <td>1</td>\n",
       "      <td>2.0</td>\n",
       "      <td>1428</td>\n",
       "      <td>1.0</td>\n",
       "      <td>...</td>\n",
       "      <td>No</td>\n",
       "      <td>Select</td>\n",
       "      <td>Mumbai</td>\n",
       "      <td>02.Medium</td>\n",
       "      <td>01.High</td>\n",
       "      <td>15.0</td>\n",
       "      <td>18.0</td>\n",
       "      <td>No</td>\n",
       "      <td>No</td>\n",
       "      <td>Modified</td>\n",
       "    </tr>\n",
       "  </tbody>\n",
       "</table>\n",
       "<p>5 rows × 37 columns</p>\n",
       "</div>"
      ],
      "text/plain": [
       "                            Prospect ID  Lead Number              Lead Origin  \\\n",
       "0  7927b2df-8bba-4d29-b9a2-b6e0beafe620       660737                      API   \n",
       "1  2a272436-5132-4136-86fa-dcc88c88f482       660728                      API   \n",
       "2  8cc8c611-a219-4f35-ad23-fdfd2656bd8a       660727  Landing Page Submission   \n",
       "3  0cc2df48-7cf4-4e39-9de9-19797f9b38cc       660719  Landing Page Submission   \n",
       "4  3256f628-e534-4826-9d63-4a8b88782852       660681  Landing Page Submission   \n",
       "\n",
       "      Lead Source Do Not Email Do Not Call  Converted  TotalVisits  \\\n",
       "0      Olark Chat           No          No          0          0.0   \n",
       "1  Organic Search           No          No          0          5.0   \n",
       "2  Direct Traffic           No          No          1          2.0   \n",
       "3  Direct Traffic           No          No          0          1.0   \n",
       "4          Google           No          No          1          2.0   \n",
       "\n",
       "   Total Time Spent on Website  Page Views Per Visit  ...  \\\n",
       "0                            0                   0.0  ...   \n",
       "1                          674                   2.5  ...   \n",
       "2                         1532                   2.0  ...   \n",
       "3                          305                   1.0  ...   \n",
       "4                         1428                   1.0  ...   \n",
       "\n",
       "  Get updates on DM Content    Lead Profile    City  \\\n",
       "0                        No          Select  Select   \n",
       "1                        No          Select  Select   \n",
       "2                        No  Potential Lead  Mumbai   \n",
       "3                        No          Select  Mumbai   \n",
       "4                        No          Select  Mumbai   \n",
       "\n",
       "  Asymmetrique Activity Index Asymmetrique Profile Index  \\\n",
       "0                   02.Medium                  02.Medium   \n",
       "1                   02.Medium                  02.Medium   \n",
       "2                   02.Medium                    01.High   \n",
       "3                   02.Medium                    01.High   \n",
       "4                   02.Medium                    01.High   \n",
       "\n",
       "  Asymmetrique Activity Score Asymmetrique Profile Score  \\\n",
       "0                        15.0                       15.0   \n",
       "1                        15.0                       15.0   \n",
       "2                        14.0                       20.0   \n",
       "3                        13.0                       17.0   \n",
       "4                        15.0                       18.0   \n",
       "\n",
       "  I agree to pay the amount through cheque  \\\n",
       "0                                       No   \n",
       "1                                       No   \n",
       "2                                       No   \n",
       "3                                       No   \n",
       "4                                       No   \n",
       "\n",
       "  A free copy of Mastering The Interview Last Notable Activity  \n",
       "0                                     No              Modified  \n",
       "1                                     No          Email Opened  \n",
       "2                                    Yes          Email Opened  \n",
       "3                                     No              Modified  \n",
       "4                                     No              Modified  \n",
       "\n",
       "[5 rows x 37 columns]"
      ]
     },
     "execution_count": 4,
     "metadata": {},
     "output_type": "execute_result"
    }
   ],
   "source": [
    "# importing the dataset\n",
    "leads=pd.read_csv('Leads.csv')\n",
    "leads.head()"
   ]
  },
  {
   "cell_type": "code",
   "execution_count": 5,
   "metadata": {},
   "outputs": [
    {
     "data": {
      "text/plain": [
       "(9240, 37)"
      ]
     },
     "execution_count": 5,
     "metadata": {},
     "output_type": "execute_result"
    }
   ],
   "source": [
    "# checking the size of the dataframe leads\n",
    "leads.shape"
   ]
  },
  {
   "cell_type": "code",
   "execution_count": 6,
   "metadata": {},
   "outputs": [
    {
     "data": {
      "text/html": [
       "<div>\n",
       "<style scoped>\n",
       "    .dataframe tbody tr th:only-of-type {\n",
       "        vertical-align: middle;\n",
       "    }\n",
       "\n",
       "    .dataframe tbody tr th {\n",
       "        vertical-align: top;\n",
       "    }\n",
       "\n",
       "    .dataframe thead th {\n",
       "        text-align: right;\n",
       "    }\n",
       "</style>\n",
       "<table border=\"1\" class=\"dataframe\">\n",
       "  <thead>\n",
       "    <tr style=\"text-align: right;\">\n",
       "      <th></th>\n",
       "      <th>Lead Number</th>\n",
       "      <th>Converted</th>\n",
       "      <th>TotalVisits</th>\n",
       "      <th>Total Time Spent on Website</th>\n",
       "      <th>Page Views Per Visit</th>\n",
       "      <th>Asymmetrique Activity Score</th>\n",
       "      <th>Asymmetrique Profile Score</th>\n",
       "    </tr>\n",
       "  </thead>\n",
       "  <tbody>\n",
       "    <tr>\n",
       "      <th>count</th>\n",
       "      <td>9240.000000</td>\n",
       "      <td>9240.000000</td>\n",
       "      <td>9103.000000</td>\n",
       "      <td>9240.000000</td>\n",
       "      <td>9103.000000</td>\n",
       "      <td>5022.000000</td>\n",
       "      <td>5022.000000</td>\n",
       "    </tr>\n",
       "    <tr>\n",
       "      <th>mean</th>\n",
       "      <td>617188.435606</td>\n",
       "      <td>0.385390</td>\n",
       "      <td>3.445238</td>\n",
       "      <td>487.698268</td>\n",
       "      <td>2.362820</td>\n",
       "      <td>14.306252</td>\n",
       "      <td>16.344883</td>\n",
       "    </tr>\n",
       "    <tr>\n",
       "      <th>std</th>\n",
       "      <td>23405.995698</td>\n",
       "      <td>0.486714</td>\n",
       "      <td>4.854853</td>\n",
       "      <td>548.021466</td>\n",
       "      <td>2.161418</td>\n",
       "      <td>1.386694</td>\n",
       "      <td>1.811395</td>\n",
       "    </tr>\n",
       "    <tr>\n",
       "      <th>min</th>\n",
       "      <td>579533.000000</td>\n",
       "      <td>0.000000</td>\n",
       "      <td>0.000000</td>\n",
       "      <td>0.000000</td>\n",
       "      <td>0.000000</td>\n",
       "      <td>7.000000</td>\n",
       "      <td>11.000000</td>\n",
       "    </tr>\n",
       "    <tr>\n",
       "      <th>25%</th>\n",
       "      <td>596484.500000</td>\n",
       "      <td>0.000000</td>\n",
       "      <td>1.000000</td>\n",
       "      <td>12.000000</td>\n",
       "      <td>1.000000</td>\n",
       "      <td>14.000000</td>\n",
       "      <td>15.000000</td>\n",
       "    </tr>\n",
       "    <tr>\n",
       "      <th>50%</th>\n",
       "      <td>615479.000000</td>\n",
       "      <td>0.000000</td>\n",
       "      <td>3.000000</td>\n",
       "      <td>248.000000</td>\n",
       "      <td>2.000000</td>\n",
       "      <td>14.000000</td>\n",
       "      <td>16.000000</td>\n",
       "    </tr>\n",
       "    <tr>\n",
       "      <th>75%</th>\n",
       "      <td>637387.250000</td>\n",
       "      <td>1.000000</td>\n",
       "      <td>5.000000</td>\n",
       "      <td>936.000000</td>\n",
       "      <td>3.000000</td>\n",
       "      <td>15.000000</td>\n",
       "      <td>18.000000</td>\n",
       "    </tr>\n",
       "    <tr>\n",
       "      <th>max</th>\n",
       "      <td>660737.000000</td>\n",
       "      <td>1.000000</td>\n",
       "      <td>251.000000</td>\n",
       "      <td>2272.000000</td>\n",
       "      <td>55.000000</td>\n",
       "      <td>18.000000</td>\n",
       "      <td>20.000000</td>\n",
       "    </tr>\n",
       "  </tbody>\n",
       "</table>\n",
       "</div>"
      ],
      "text/plain": [
       "         Lead Number    Converted  TotalVisits  Total Time Spent on Website  \\\n",
       "count    9240.000000  9240.000000  9103.000000                  9240.000000   \n",
       "mean   617188.435606     0.385390     3.445238                   487.698268   \n",
       "std     23405.995698     0.486714     4.854853                   548.021466   \n",
       "min    579533.000000     0.000000     0.000000                     0.000000   \n",
       "25%    596484.500000     0.000000     1.000000                    12.000000   \n",
       "50%    615479.000000     0.000000     3.000000                   248.000000   \n",
       "75%    637387.250000     1.000000     5.000000                   936.000000   \n",
       "max    660737.000000     1.000000   251.000000                  2272.000000   \n",
       "\n",
       "       Page Views Per Visit  Asymmetrique Activity Score  \\\n",
       "count           9103.000000                  5022.000000   \n",
       "mean               2.362820                    14.306252   \n",
       "std                2.161418                     1.386694   \n",
       "min                0.000000                     7.000000   \n",
       "25%                1.000000                    14.000000   \n",
       "50%                2.000000                    14.000000   \n",
       "75%                3.000000                    15.000000   \n",
       "max               55.000000                    18.000000   \n",
       "\n",
       "       Asymmetrique Profile Score  \n",
       "count                 5022.000000  \n",
       "mean                    16.344883  \n",
       "std                      1.811395  \n",
       "min                     11.000000  \n",
       "25%                     15.000000  \n",
       "50%                     16.000000  \n",
       "75%                     18.000000  \n",
       "max                     20.000000  "
      ]
     },
     "execution_count": 6,
     "metadata": {},
     "output_type": "execute_result"
    }
   ],
   "source": [
    "# describing the dataset\n",
    "leads.describe()"
   ]
  },
  {
   "cell_type": "markdown",
   "metadata": {},
   "source": [
    "## Null values check"
   ]
  },
  {
   "cell_type": "code",
   "execution_count": 7,
   "metadata": {
    "scrolled": true
   },
   "outputs": [
    {
     "data": {
      "text/plain": [
       "Prospect ID                                       0.000\n",
       "Lead Number                                       0.000\n",
       "Lead Origin                                       0.000\n",
       "Lead Source                                       0.390\n",
       "Do Not Email                                      0.000\n",
       "Do Not Call                                       0.000\n",
       "Converted                                         0.000\n",
       "TotalVisits                                       1.483\n",
       "Total Time Spent on Website                       0.000\n",
       "Page Views Per Visit                              1.483\n",
       "Last Activity                                     1.115\n",
       "Country                                          26.634\n",
       "Specialization                                   15.563\n",
       "How did you hear about X Education               23.885\n",
       "What is your current occupation                  29.113\n",
       "What matters most to you in choosing a course    29.318\n",
       "Search                                            0.000\n",
       "Magazine                                          0.000\n",
       "Newspaper Article                                 0.000\n",
       "X Education Forums                                0.000\n",
       "Newspaper                                         0.000\n",
       "Digital Advertisement                             0.000\n",
       "Through Recommendations                           0.000\n",
       "Receive More Updates About Our Courses            0.000\n",
       "Tags                                             36.288\n",
       "Lead Quality                                     51.591\n",
       "Update me on Supply Chain Content                 0.000\n",
       "Get updates on DM Content                         0.000\n",
       "Lead Profile                                     29.318\n",
       "City                                             15.368\n",
       "Asymmetrique Activity Index                      45.649\n",
       "Asymmetrique Profile Index                       45.649\n",
       "Asymmetrique Activity Score                      45.649\n",
       "Asymmetrique Profile Score                       45.649\n",
       "I agree to pay the amount through cheque          0.000\n",
       "A free copy of Mastering The Interview            0.000\n",
       "Last Notable Activity                             0.000\n",
       "dtype: float64"
      ]
     },
     "execution_count": 7,
     "metadata": {},
     "output_type": "execute_result"
    }
   ],
   "source": [
    "# checking for null values\n",
    "null_val=round(leads.isnull().sum()*100/leads.shape[0],3)\n",
    "null_val"
   ]
  },
  {
   "cell_type": "code",
   "execution_count": 8,
   "metadata": {},
   "outputs": [],
   "source": [
    "leads=leads.applymap(lambda x:np.NAN if x=='Select' else x)"
   ]
  },
  {
   "cell_type": "markdown",
   "metadata": {},
   "source": [
    "imputing 'select values as null because there the user didn't provide any information"
   ]
  },
  {
   "cell_type": "code",
   "execution_count": 9,
   "metadata": {
    "scrolled": true
   },
   "outputs": [
    {
     "data": {
      "text/plain": [
       "Prospect ID                                       0.000\n",
       "Lead Number                                       0.000\n",
       "Lead Origin                                       0.000\n",
       "Lead Source                                       0.390\n",
       "Do Not Email                                      0.000\n",
       "Do Not Call                                       0.000\n",
       "Converted                                         0.000\n",
       "TotalVisits                                       1.483\n",
       "Total Time Spent on Website                       0.000\n",
       "Page Views Per Visit                              1.483\n",
       "Last Activity                                     1.115\n",
       "Country                                          26.634\n",
       "Specialization                                   36.580\n",
       "How did you hear about X Education               78.463\n",
       "What is your current occupation                  29.113\n",
       "What matters most to you in choosing a course    29.318\n",
       "Search                                            0.000\n",
       "Magazine                                          0.000\n",
       "Newspaper Article                                 0.000\n",
       "X Education Forums                                0.000\n",
       "Newspaper                                         0.000\n",
       "Digital Advertisement                             0.000\n",
       "Through Recommendations                           0.000\n",
       "Receive More Updates About Our Courses            0.000\n",
       "Tags                                             36.288\n",
       "Lead Quality                                     51.591\n",
       "Update me on Supply Chain Content                 0.000\n",
       "Get updates on DM Content                         0.000\n",
       "Lead Profile                                     74.188\n",
       "City                                             39.708\n",
       "Asymmetrique Activity Index                      45.649\n",
       "Asymmetrique Profile Index                       45.649\n",
       "Asymmetrique Activity Score                      45.649\n",
       "Asymmetrique Profile Score                       45.649\n",
       "I agree to pay the amount through cheque          0.000\n",
       "A free copy of Mastering The Interview            0.000\n",
       "Last Notable Activity                             0.000\n",
       "dtype: float64"
      ]
     },
     "execution_count": 9,
     "metadata": {},
     "output_type": "execute_result"
    }
   ],
   "source": [
    "# checking for null values after imputing the select values as null\n",
    "null_val=round(leads.isnull().sum()*100/leads.shape[0],3)\n",
    "null_val"
   ]
  },
  {
   "cell_type": "markdown",
   "metadata": {},
   "source": [
    "## Data Cleaning"
   ]
  },
  {
   "cell_type": "markdown",
   "metadata": {},
   "source": [
    "Let's begin the cleaning process by dropping  the columns with null value percentage greate than the 40%"
   ]
  },
  {
   "cell_type": "code",
   "execution_count": 10,
   "metadata": {},
   "outputs": [],
   "source": [
    "for i in leads.columns:\n",
    "    if leads[i].isna().sum()*100/leads.shape[0]>=40:\n",
    "        leads.drop(i,axis=1,inplace=True)"
   ]
  },
  {
   "cell_type": "code",
   "execution_count": 11,
   "metadata": {},
   "outputs": [
    {
     "data": {
      "text/plain": [
       "(9240, 30)"
      ]
     },
     "execution_count": 11,
     "metadata": {},
     "output_type": "execute_result"
    }
   ],
   "source": [
    "leads.shape"
   ]
  },
  {
   "cell_type": "markdown",
   "metadata": {},
   "source": [
    "We can see that seven columns have been dropeed, now checking the categorical varaibles for skewed data,a dn if it is present then dropping the column as it will give us skewed analysis"
   ]
  },
  {
   "cell_type": "code",
   "execution_count": 12,
   "metadata": {},
   "outputs": [],
   "source": [
    "# seggregating columns with more than two categories and columns conataing only yes/no as the categories for mapping\n",
    "cat_cols=[]\n",
    "map_cols=[]\n",
    "for i in leads.columns:\n",
    "    if leads[i].dtypes==object:\n",
    "        if len(leads[i].value_counts().index)>2:\n",
    "            cat_cols.append(i)\n",
    "        else:\n",
    "            map_cols.append(i)"
   ]
  },
  {
   "cell_type": "markdown",
   "metadata": {},
   "source": [
    "Having a look at the categorical columns for high skewness"
   ]
  },
  {
   "cell_type": "code",
   "execution_count": 13,
   "metadata": {},
   "outputs": [
    {
     "name": "stdout",
     "output_type": "stream",
     "text": [
      "Prospect ID\n",
      "b1a5baad-4d3d-4b05-b92b-57fb7746fdc6    0.000108\n",
      "59d2f9c6-d03e-4c51-8324-0c76feb19df6    0.000108\n",
      "0d804a8e-2fa9-465a-807d-033b2f4b9115    0.000108\n",
      "17bea3a8-1bd1-490c-a084-41ff68f5a44f    0.000108\n",
      "e856ceb5-8371-4816-8ade-b89e947117d3    0.000108\n",
      "                                          ...   \n",
      "ba2e2014-707b-46a2-843c-498abf873d77    0.000108\n",
      "d0be0023-2511-4621-8a66-972bf64cfa35    0.000108\n",
      "7fe58087-011d-4b7d-9b63-8866230e9a02    0.000108\n",
      "e39b2e93-99e3-4c13-abd0-f08e5ca0f416    0.000108\n",
      "724efd71-6b61-463c-a872-e1d63fc3b163    0.000108\n",
      "Name: Prospect ID, Length: 9240, dtype: float64\n",
      "\n",
      "Lead Origin\n",
      "Landing Page Submission    0.528788\n",
      "API                        0.387446\n",
      "Lead Add Form              0.077706\n",
      "Lead Import                0.005952\n",
      "Quick Add Form             0.000108\n",
      "Name: Lead Origin, dtype: float64\n",
      "\n",
      "Lead Source\n",
      "Google               0.311604\n",
      "Direct Traffic       0.276293\n",
      "Olark Chat           0.190678\n",
      "Organic Search       0.125380\n",
      "Reference            0.058018\n",
      "Welingak Website     0.015428\n",
      "Referral Sites       0.013581\n",
      "Facebook             0.005976\n",
      "bing                 0.000652\n",
      "google               0.000543\n",
      "Click2call           0.000435\n",
      "Social Media         0.000217\n",
      "Live Chat            0.000217\n",
      "Press_Release        0.000217\n",
      "testone              0.000109\n",
      "blog                 0.000109\n",
      "welearnblog_Home     0.000109\n",
      "NC_EDM               0.000109\n",
      "Pay per Click Ads    0.000109\n",
      "WeLearn              0.000109\n",
      "youtubechannel       0.000109\n",
      "Name: Lead Source, dtype: float64\n",
      "\n",
      "Last Activity\n",
      "Email Opened                    0.376163\n",
      "SMS Sent                        0.300427\n",
      "Olark Chat Conversation         0.106490\n",
      "Page Visited on Website         0.070045\n",
      "Converted to Lead               0.046843\n",
      "Email Bounced                   0.035679\n",
      "Email Link Clicked              0.029222\n",
      "Form Submitted on Website       0.012696\n",
      "Unreachable                     0.010178\n",
      "Unsubscribed                    0.006676\n",
      "Had a Phone Conversation        0.003283\n",
      "Approached upfront              0.000985\n",
      "View in browser link Clicked    0.000657\n",
      "Email Marked Spam               0.000219\n",
      "Email Received                  0.000219\n",
      "Visited Booth in Tradeshow      0.000109\n",
      "Resubscribed to emails          0.000109\n",
      "Name: Last Activity, dtype: float64\n",
      "\n",
      "Country\n",
      "India                   0.957663\n",
      "United States           0.010178\n",
      "United Arab Emirates    0.007818\n",
      "Singapore               0.003540\n",
      "Saudi Arabia            0.003098\n",
      "United Kingdom          0.002213\n",
      "Australia               0.001918\n",
      "Qatar                   0.001475\n",
      "Bahrain                 0.001033\n",
      "Hong Kong               0.001033\n",
      "France                  0.000885\n",
      "Oman                    0.000885\n",
      "unknown                 0.000738\n",
      "Nigeria                 0.000590\n",
      "Canada                  0.000590\n",
      "Germany                 0.000590\n",
      "Kuwait                  0.000590\n",
      "South Africa            0.000590\n",
      "Sweden                  0.000443\n",
      "Uganda                  0.000295\n",
      "China                   0.000295\n",
      "Bangladesh              0.000295\n",
      "Belgium                 0.000295\n",
      "Philippines             0.000295\n",
      "Asia/Pacific Region     0.000295\n",
      "Netherlands             0.000295\n",
      "Italy                   0.000295\n",
      "Ghana                   0.000295\n",
      "Russia                  0.000148\n",
      "Kenya                   0.000148\n",
      "Indonesia               0.000148\n",
      "Sri Lanka               0.000148\n",
      "Tanzania                0.000148\n",
      "Switzerland             0.000148\n",
      "Denmark                 0.000148\n",
      "Vietnam                 0.000148\n",
      "Liberia                 0.000148\n",
      "Malaysia                0.000148\n",
      "Name: Country, dtype: float64\n",
      "\n",
      "Specialization\n",
      "Finance Management                   0.166553\n",
      "Human Resource Management            0.144710\n",
      "Marketing Management                 0.143003\n",
      "Operations Management                0.085836\n",
      "Business Administration              0.068771\n",
      "IT Projects Management               0.062457\n",
      "Supply Chain Management              0.059556\n",
      "Banking, Investment And Insurance    0.057679\n",
      "Travel and Tourism                   0.034642\n",
      "Media and Advertising                0.034642\n",
      "International Business               0.030375\n",
      "Healthcare Management                0.027133\n",
      "Hospitality Management               0.019454\n",
      "E-COMMERCE                           0.019113\n",
      "Retail Management                    0.017065\n",
      "Rural and Agribusiness               0.012457\n",
      "E-Business                           0.009727\n",
      "Services Excellence                  0.006826\n",
      "Name: Specialization, dtype: float64\n",
      "\n",
      "What is your current occupation\n",
      "Unemployed              0.854962\n",
      "Working Professional    0.107786\n",
      "Student                 0.032061\n",
      "Other                   0.002443\n",
      "Housewife               0.001527\n",
      "Businessman             0.001221\n",
      "Name: What is your current occupation, dtype: float64\n",
      "\n",
      "What matters most to you in choosing a course\n",
      "Better Career Prospects      0.999541\n",
      "Flexibility & Convenience    0.000306\n",
      "Other                        0.000153\n",
      "Name: What matters most to you in choosing a course, dtype: float64\n",
      "\n",
      "Tags\n",
      "Will revert after reading the email                  0.351962\n",
      "Ringing                                              0.204349\n",
      "Interested in other courses                          0.087141\n",
      "Already a student                                    0.078988\n",
      "Closed by Horizzon                                   0.060812\n",
      "switched off                                         0.040768\n",
      "Busy                                                 0.031595\n",
      "Lost to EINS                                         0.029727\n",
      "Not doing further education                          0.024631\n",
      "Interested  in full time MBA                         0.019874\n",
      "Graduation in progress                               0.018855\n",
      "invalid number                                       0.014099\n",
      "Diploma holder (Not Eligible)                        0.010702\n",
      "wrong number given                                   0.007984\n",
      "opp hangup                                           0.005606\n",
      "number not provided                                  0.004586\n",
      "in touch with EINS                                   0.002038\n",
      "Lost to Others                                       0.001189\n",
      "Want to take admission but has financial problems    0.001019\n",
      "Still Thinking                                       0.001019\n",
      "In confusion whether part time or DLP                0.000849\n",
      "Interested in Next batch                             0.000849\n",
      "Lateral student                                      0.000510\n",
      "Shall take in the next coming month                  0.000340\n",
      "University not recognized                            0.000340\n",
      "Recognition issue (DEC approval)                     0.000170\n",
      "Name: Tags, dtype: float64\n",
      "\n",
      "City\n",
      "Mumbai                         0.578352\n",
      "Thane & Outskirts              0.134985\n",
      "Other Cities                   0.123138\n",
      "Other Cities of Maharashtra    0.082032\n",
      "Other Metro Cities             0.068210\n",
      "Tier II Cities                 0.013283\n",
      "Name: City, dtype: float64\n",
      "\n",
      "Last Notable Activity\n",
      "Modified                        0.368723\n",
      "Email Opened                    0.305952\n",
      "SMS Sent                        0.235065\n",
      "Page Visited on Website         0.034416\n",
      "Olark Chat Conversation         0.019805\n",
      "Email Link Clicked              0.018723\n",
      "Email Bounced                   0.006494\n",
      "Unsubscribed                    0.005087\n",
      "Unreachable                     0.003463\n",
      "Had a Phone Conversation        0.001515\n",
      "Email Marked Spam               0.000216\n",
      "Approached upfront              0.000108\n",
      "Form Submitted on Website       0.000108\n",
      "View in browser link Clicked    0.000108\n",
      "Resubscribed to emails          0.000108\n",
      "Email Received                  0.000108\n",
      "Name: Last Notable Activity, dtype: float64\n",
      "\n"
     ]
    }
   ],
   "source": [
    "for i in cat_cols:\n",
    "    print(i)\n",
    "    print(leads[i].value_counts(normalize=True))\n",
    "    print()"
   ]
  },
  {
   "cell_type": "markdown",
   "metadata": {},
   "source": [
    "- From the above output we can see that we need to dop the `country` column as it highly skewed towards india\n",
    "- From the above output we can see that we need to dop the  `What is your current occupation`column as it highly skewed towards Unemployed\n",
    "- `What matters most to you in choosing a course` dropping this also as it is very heavily skewed towards better career prosoects\n"
   ]
  },
  {
   "cell_type": "code",
   "execution_count": 14,
   "metadata": {},
   "outputs": [
    {
     "data": {
      "image/png": "[encoded data removed]",
      "text/plain": [
       "<Figure size 432x288 with 1 Axes>"
      ]
     },
     "metadata": {
      "needs_background": "light"
     },
     "output_type": "display_data"
    },
    {
     "data": {
      "image/png": "[encoded data removed]",
      "text/plain": [
       "<Figure size 432x288 with 1 Axes>"
      ]
     },
     "metadata": {
      "needs_background": "light"
     },
     "output_type": "display_data"
    },
    {
     "data": {
      "image/png": "[encoded data removed]",
      "text/plain": [
       "<Figure size 432x288 with 1 Axes>"
      ]
     },
     "metadata": {
      "needs_background": "light"
     },
     "output_type": "display_data"
    }
   ],
   "source": [
    "# visualisng these three columns before dropping them.\n",
    "for i in ['What matters most to you in choosing a course','Country','What is your current occupation']:\n",
    "    sns.countplot(leads[i],hue=leads['Converted'])\n",
    "    plt.xticks(rotation=90)\n",
    "    plt.show()"
   ]
  },
  {
   "cell_type": "code",
   "execution_count": 15,
   "metadata": {},
   "outputs": [],
   "source": [
    "leads.drop(['What matters most to you in choosing a course','Country','What is your current occupation'],axis=1,inplace=True)"
   ]
  },
  {
   "cell_type": "markdown",
   "metadata": {},
   "source": [
    "### Now Rechecking the null value count among the data"
   ]
  },
  {
   "cell_type": "code",
   "execution_count": 16,
   "metadata": {},
   "outputs": [
    {
     "data": {
      "text/plain": [
       "Lead Source              0.389610\n",
       "TotalVisits              1.482684\n",
       "Page Views Per Visit     1.482684\n",
       "Last Activity            1.114719\n",
       "Specialization          36.580087\n",
       "Tags                    36.287879\n",
       "City                    39.707792\n",
       "dtype: float64"
      ]
     },
     "execution_count": 16,
     "metadata": {},
     "output_type": "execute_result"
    }
   ],
   "source": [
    "null_values=leads.isnull().sum()*100/leads.shape[0]\n",
    "null_values[null_values>0]"
   ]
  },
  {
   "cell_type": "markdown",
   "metadata": {},
   "source": [
    " <span style='background:cyan'> CITY </span>"
   ]
  },
  {
   "cell_type": "code",
   "execution_count": 17,
   "metadata": {},
   "outputs": [
    {
     "data": {
      "text/plain": [
       "Mumbai                         0.578352\n",
       "Thane & Outskirts              0.134985\n",
       "Other Cities                   0.123138\n",
       "Other Cities of Maharashtra    0.082032\n",
       "Other Metro Cities             0.068210\n",
       "Tier II Cities                 0.013283\n",
       "Name: City, dtype: float64"
      ]
     },
     "execution_count": 17,
     "metadata": {},
     "output_type": "execute_result"
    }
   ],
   "source": [
    "leads['City'].value_counts(normalize=True)"
   ]
  },
  {
   "cell_type": "code",
   "execution_count": 18,
   "metadata": {},
   "outputs": [
    {
     "data": {
      "text/plain": [
       "Mumbai                         0.745779\n",
       "Thane & Outskirts              0.081385\n",
       "Other Cities                   0.074242\n",
       "Other Cities of Maharashtra    0.049459\n",
       "Other Metro Cities             0.041126\n",
       "Tier II Cities                 0.008009\n",
       "Name: City, dtype: float64"
      ]
     },
     "execution_count": 18,
     "metadata": {},
     "output_type": "execute_result"
    }
   ],
   "source": [
    "# imputing the null_Values with mumbai\n",
    "leads['City'].replace({np.nan:'Mumbai'},inplace=True)\n",
    "leads['City'].value_counts(normalize=True)"
   ]
  },
  {
   "cell_type": "markdown",
   "metadata": {},
   "source": [
    "<span style='background:cyan' > Specilization </span>"
   ]
  },
  {
   "cell_type": "code",
   "execution_count": 19,
   "metadata": {},
   "outputs": [
    {
     "data": {
      "text/plain": [
       "36.58008658008658"
      ]
     },
     "execution_count": 19,
     "metadata": {},
     "output_type": "execute_result"
    }
   ],
   "source": [
    "# checking for nul values percentage in specialization\n",
    "leads['Specialization'].isnull().sum()*100/leads.shape[0]"
   ]
  },
  {
   "cell_type": "code",
   "execution_count": 20,
   "metadata": {},
   "outputs": [
    {
     "data": {
      "image/png": "[encoded data removed]",
      "text/plain": [
       "<Figure size 432x288 with 1 Axes>"
      ]
     },
     "metadata": {
      "needs_background": "light"
     },
     "output_type": "display_data"
    }
   ],
   "source": [
    "# before imputing\n",
    "leads['Specialization'].value_counts().head()\n",
    "\n",
    "sns.countplot(leads['Specialization'])\n",
    "plt.xticks(rotation=90)\n",
    "plt.show()"
   ]
  },
  {
   "cell_type": "markdown",
   "metadata": {},
   "source": [
    "Imputing the null values with others, as the lead may be student or not in any of the above mentioned specialisation"
   ]
  },
  {
   "cell_type": "code",
   "execution_count": 21,
   "metadata": {},
   "outputs": [
    {
     "data": {
      "image/png": "[encoded data removed]",
      "text/plain": [
       "<Figure size 432x288 with 1 Axes>"
      ]
     },
     "metadata": {
      "needs_background": "light"
     },
     "output_type": "display_data"
    }
   ],
   "source": [
    "# imputation process\n",
    "leads['Specialization'].replace({np.NAN:'Others'},inplace=True)\n",
    "sns.countplot(leads['Specialization'])\n",
    "plt.xticks(rotation=90)\n",
    "plt.show()"
   ]
  },
  {
   "cell_type": "markdown",
   "metadata": {},
   "source": [
    "<span style='background:cyan'> Tags </span>"
   ]
  },
  {
   "cell_type": "code",
   "execution_count": 22,
   "metadata": {
    "scrolled": true
   },
   "outputs": [
    {
     "data": {
      "text/plain": [
       "Will revert after reading the email                  35.196195\n",
       "Ringing                                              20.434856\n",
       "Interested in other courses                           8.714116\n",
       "Already a student                                     7.898760\n",
       "Closed by Horizzon                                    6.081196\n",
       "switched off                                          4.076779\n",
       "Busy                                                  3.159504\n",
       "Lost to EINS                                          2.972652\n",
       "Not doing further education                           2.463054\n",
       "Interested  in full time MBA                          1.987430\n",
       "Graduation in progress                                1.885510\n",
       "invalid number                                        1.409886\n",
       "Diploma holder (Not Eligible)                         1.070155\n",
       "wrong number given                                    0.798369\n",
       "opp hangup                                            0.560557\n",
       "number not provided                                   0.458638\n",
       "in touch with EINS                                    0.203839\n",
       "Lost to Others                                        0.118906\n",
       "Want to take admission but has financial problems     0.101919\n",
       "Still Thinking                                        0.101919\n",
       "In confusion whether part time or DLP                 0.084933\n",
       "Interested in Next batch                              0.084933\n",
       "Lateral student                                       0.050960\n",
       "Shall take in the next coming month                   0.033973\n",
       "University not recognized                             0.033973\n",
       "Recognition issue (DEC approval)                      0.016987\n",
       "Name: Tags, dtype: float64"
      ]
     },
     "execution_count": 22,
     "metadata": {},
     "output_type": "execute_result"
    }
   ],
   "source": [
    "# before imputation checking for value_counts\n",
    "tag=leads['Tags'].value_counts(normalize=True)*100\n",
    "tag"
   ]
  },
  {
   "cell_type": "markdown",
   "metadata": {},
   "source": [
    "Imputing this column with the 'Will revert after reading the email' as it is the most frequent"
   ]
  },
  {
   "cell_type": "code",
   "execution_count": 23,
   "metadata": {},
   "outputs": [
    {
     "data": {
      "text/plain": [
       "Will revert after reading the email    5425\n",
       "Ringing                                1203\n",
       "Interested in other courses             513\n",
       "Already a student                       465\n",
       "Closed by Horizzon                      358\n",
       "switched off                            240\n",
       "Busy                                    186\n",
       "Lost to EINS                            175\n",
       "Name: Tags, dtype: int64"
      ]
     },
     "execution_count": 23,
     "metadata": {},
     "output_type": "execute_result"
    }
   ],
   "source": [
    "leads['Tags'].replace({np.nan:tag.index[0]},inplace=True)\n",
    "leads['Tags'].value_counts().head(8)"
   ]
  },
  {
   "cell_type": "markdown",
   "metadata": {},
   "source": [
    "Standerising the column so that the indexes categories get minimised"
   ]
  },
  {
   "cell_type": "code",
   "execution_count": 24,
   "metadata": {},
   "outputs": [
    {
     "data": {
      "text/plain": [
       "['Not doing further education',\n",
       " 'Interested  in full time MBA',\n",
       " 'Graduation in progress',\n",
       " 'invalid number',\n",
       " 'Diploma holder (Not Eligible)',\n",
       " 'wrong number given',\n",
       " 'opp hangup',\n",
       " 'number not provided',\n",
       " 'in touch with EINS',\n",
       " 'Lost to Others',\n",
       " 'Want to take admission but has financial problems',\n",
       " 'Still Thinking',\n",
       " 'In confusion whether part time or DLP',\n",
       " 'Interested in Next batch',\n",
       " 'Lateral student',\n",
       " 'Shall take in the next coming month',\n",
       " 'University not recognized',\n",
       " 'Recognition issue (DEC approval)']"
      ]
     },
     "execution_count": 24,
     "metadata": {},
     "output_type": "execute_result"
    }
   ],
   "source": [
    "tag_replace=tag.index[8:]\n",
    "tag_replace.to_list()"
   ]
  },
  {
   "cell_type": "code",
   "execution_count": 25,
   "metadata": {},
   "outputs": [],
   "source": [
    "# replacing all the values present in the above tag_replace list to 'others'\n",
    "for i in tag_replace:\n",
    "    leads['Tags']=leads['Tags'].replace({i:'Others'})"
   ]
  },
  {
   "cell_type": "code",
   "execution_count": 26,
   "metadata": {},
   "outputs": [
    {
     "data": {
      "text/plain": [
       "Will revert after reading the email    5425\n",
       "Ringing                                1203\n",
       "Others                                  675\n",
       "Interested in other courses             513\n",
       "Already a student                       465\n",
       "Closed by Horizzon                      358\n",
       "switched off                            240\n",
       "Busy                                    186\n",
       "Lost to EINS                            175\n",
       "Name: Tags, dtype: int64"
      ]
     },
     "execution_count": 26,
     "metadata": {},
     "output_type": "execute_result"
    }
   ],
   "source": [
    "leads.Tags.value_counts()"
   ]
  },
  {
   "cell_type": "markdown",
   "metadata": {},
   "source": [
    "#### Now as the null values present in the rows is very less , dropping them as they are very less in number"
   ]
  },
  {
   "cell_type": "code",
   "execution_count": 27,
   "metadata": {},
   "outputs": [],
   "source": [
    "leads.dropna(how='any',inplace=True)"
   ]
  },
  {
   "cell_type": "markdown",
   "metadata": {},
   "source": [
    "#### Standerising the lead source column"
   ]
  },
  {
   "cell_type": "code",
   "execution_count": 28,
   "metadata": {},
   "outputs": [],
   "source": [
    "# standerising the Lead source column\n",
    "leads.loc[leads['Lead Source']=='google','Lead Source']='Google'\n",
    "# cleaning up the lead source column\n",
    "leads['Lead Source'] = leads['Lead Source'].replace(['Click2call', 'Live Chat', 'NC_EDM', 'Pay per Click Ads', 'Press_Release',\n",
    "  'Social Media', 'WeLearn', 'bing', 'blog', 'testone', 'welearnblog_Home', 'youtubechannel'], 'Others')"
   ]
  },
  {
   "cell_type": "markdown",
   "metadata": {},
   "source": [
    "### Dropping the remaing columns generated by the sales team"
   ]
  },
  {
   "cell_type": "code",
   "execution_count": 29,
   "metadata": {},
   "outputs": [],
   "source": [
    "\n",
    "# columns left which are generated by the sales teams after data cleaning are\n",
    "sales=['Last Notable Activity','Last Activity','Tags']\n",
    "# dropping the above two columns\n",
    "leads.drop(sales,axis=1,inplace=True)"
   ]
  },
  {
   "cell_type": "code",
   "execution_count": 30,
   "metadata": {},
   "outputs": [
    {
     "data": {
      "text/plain": [
       "(9074, 24)"
      ]
     },
     "execution_count": 30,
     "metadata": {},
     "output_type": "execute_result"
    }
   ],
   "source": [
    "# recheking the shape of the dataframe\n",
    "leads.shape"
   ]
  },
  {
   "cell_type": "code",
   "execution_count": 31,
   "metadata": {},
   "outputs": [
    {
     "data": {
      "text/plain": [
       "67.56756756756756"
      ]
     },
     "execution_count": 31,
     "metadata": {},
     "output_type": "execute_result"
    }
   ],
   "source": [
    "# Retention rate of the data frame\n",
    "'''\n",
    "Retention rate=(present umber of columns/Number of columns before data cleaning)\n",
    "'''\n",
    "(25/37)*100"
   ]
  },
  {
   "cell_type": "markdown",
   "metadata": {},
   "source": [
    "Retention rate is approx 67%"
   ]
  },
  {
   "cell_type": "code",
   "execution_count": 32,
   "metadata": {},
   "outputs": [],
   "source": [
    "## updating the cat_cols and num_cols\n",
    "# seggregating columns with more than two categories and columns conataing only yes/no as the categories for mapping\n",
    "cat_cols=[]\n",
    "map_cols=[]\n",
    "for i in leads.columns:\n",
    "    if leads[i].dtypes==object:\n",
    "        if len(leads[i].value_counts().index)>2:\n",
    "            cat_cols.append(i)\n",
    "        else:\n",
    "            map_cols.append(i)"
   ]
  },
  {
   "cell_type": "markdown",
   "metadata": {},
   "source": [
    "### EDA "
   ]
  },
  {
   "cell_type": "markdown",
   "metadata": {},
   "source": [
    "<span style='background:cyan'> Conversion rate</span>"
   ]
  },
  {
   "cell_type": "code",
   "execution_count": 33,
   "metadata": {},
   "outputs": [
    {
     "data": {
      "image/png": "[encoded data removed]",
      "text/plain": [
       "<Figure size 432x288 with 1 Axes>"
      ]
     },
     "metadata": {
      "needs_background": "light"
     },
     "output_type": "display_data"
    }
   ],
   "source": [
    "sns.countplot(leads.Converted)\n",
    "plt.show()"
   ]
  },
  {
   "cell_type": "code",
   "execution_count": 34,
   "metadata": {},
   "outputs": [
    {
     "data": {
      "text/plain": [
       "37.85541106458012"
      ]
     },
     "execution_count": 34,
     "metadata": {},
     "output_type": "execute_result"
    }
   ],
   "source": [
    "# calculating the conversion rate \n",
    "leads['Converted'].sum()*100/leads.shape[0]"
   ]
  },
  {
   "cell_type": "markdown",
   "metadata": {},
   "source": [
    "The conversion rate of the dataset at the moment is about 38%"
   ]
  },
  {
   "cell_type": "markdown",
   "metadata": {},
   "source": [
    "<span style='background:cyan'> Specialization</span>"
   ]
  },
  {
   "cell_type": "code",
   "execution_count": 35,
   "metadata": {},
   "outputs": [
    {
     "data": {
      "image/png": "[encoded data removed]",
      "text/plain": [
       "<Figure size 720x576 with 1 Axes>"
      ]
     },
     "metadata": {
      "needs_background": "light"
     },
     "output_type": "display_data"
    }
   ],
   "source": [
    "plt.figure(figsize=[10,8])\n",
    "sns.countplot(leads['Specialization'],hue=leads['Converted'])\n",
    "plt.xticks(rotation=90)\n",
    "plt.show()"
   ]
  },
  {
   "cell_type": "markdown",
   "metadata": {},
   "source": [
    "<span style='background:cyan'> Lead Origin </span>"
   ]
  },
  {
   "cell_type": "code",
   "execution_count": 36,
   "metadata": {},
   "outputs": [
    {
     "data": {
      "image/png": "[encoded data removed]",
      "text/plain": [
       "<Figure size 720x576 with 1 Axes>"
      ]
     },
     "metadata": {
      "needs_background": "light"
     },
     "output_type": "display_data"
    }
   ],
   "source": [
    "plt.figure(figsize=[10,8])\n",
    "sns.countplot(leads['Lead Origin'],hue=leads['Converted'])\n",
    "plt.xticks(rotation=90)\n",
    "plt.show()"
   ]
  },
  {
   "cell_type": "markdown",
   "metadata": {},
   "source": [
    "<span style='background:cyan'> Lead Source </span>"
   ]
  },
  {
   "cell_type": "code",
   "execution_count": 37,
   "metadata": {},
   "outputs": [
    {
     "data": {
      "image/png": "[encoded data removed]",
      "text/plain": [
       "<Figure size 720x576 with 1 Axes>"
      ]
     },
     "metadata": {
      "needs_background": "light"
     },
     "output_type": "display_data"
    }
   ],
   "source": [
    "plt.figure(figsize=[10,8])\n",
    "sns.countplot(leads['Lead Source'],hue=leads['Converted'])\n",
    "plt.xticks(rotation=90)\n",
    "plt.show()"
   ]
  },
  {
   "cell_type": "markdown",
   "metadata": {},
   "source": [
    "<span style='background:cyan'> city </span>"
   ]
  },
  {
   "cell_type": "code",
   "execution_count": 38,
   "metadata": {},
   "outputs": [
    {
     "data": {
      "image/png": "[encoded data removed]",
      "text/plain": [
       "<Figure size 720x576 with 1 Axes>"
      ]
     },
     "metadata": {
      "needs_background": "light"
     },
     "output_type": "display_data"
    }
   ],
   "source": [
    "plt.figure(figsize=[10,8])\n",
    "sns.countplot(leads['City'],hue=leads['Converted'])\n",
    "plt.xticks(rotation=90)\n",
    "plt.show()"
   ]
  },
  {
   "cell_type": "markdown",
   "metadata": {},
   "source": [
    "<span style='background:cyan'> TotalVisits vs Total time spent on the website </span>"
   ]
  },
  {
   "cell_type": "code",
   "execution_count": 39,
   "metadata": {},
   "outputs": [
    {
     "data": {
      "image/png": "[encoded data removed]",
      "text/plain": [
       "<Figure size 720x288 with 1 Axes>"
      ]
     },
     "metadata": {
      "needs_background": "light"
     },
     "output_type": "display_data"
    }
   ],
   "source": [
    "plt.figure(figsize=[10,4])\n",
    "sns.scatterplot(y='TotalVisits',x='Total Time Spent on Website',data=leads,hue='Converted',)\n",
    "plt.show()"
   ]
  },
  {
   "cell_type": "markdown",
   "metadata": {},
   "source": [
    "<span style='background:cyan'> TotalVisits vs Page Views per Visits</span>"
   ]
  },
  {
   "cell_type": "code",
   "execution_count": 40,
   "metadata": {},
   "outputs": [
    {
     "data": {
      "image/png": "[encoded data removed]",
      "text/plain": [
       "<Figure size 720x288 with 1 Axes>"
      ]
     },
     "metadata": {
      "needs_background": "light"
     },
     "output_type": "display_data"
    }
   ],
   "source": [
    "plt.figure(figsize=[10,4])\n",
    "sns.scatterplot(x='TotalVisits',y='Page Views Per Visit',data=leads,hue='Converted',)\n",
    "plt.show()"
   ]
  },
  {
   "cell_type": "markdown",
   "metadata": {},
   "source": [
    "<span style='background:cyan'> Total Time Spent on Website vs Page Views per Visits</span>"
   ]
  },
  {
   "cell_type": "code",
   "execution_count": 41,
   "metadata": {},
   "outputs": [
    {
     "data": {
      "image/png": "[encoded data removed]",
      "text/plain": [
       "<Figure size 720x288 with 1 Axes>"
      ]
     },
     "metadata": {
      "needs_background": "light"
     },
     "output_type": "display_data"
    }
   ],
   "source": [
    "plt.figure(figsize=[10,4])\n",
    "\n",
    "sns.scatterplot(x='Total Time Spent on Website',y='Page Views Per Visit',data=leads,hue='Converted',)\n",
    "plt.show()"
   ]
  },
  {
   "cell_type": "markdown",
   "metadata": {},
   "source": [
    "<span style='background:cyan'>Map columns </span>"
   ]
  },
  {
   "cell_type": "code",
   "execution_count": 42,
   "metadata": {},
   "outputs": [
    {
     "data": {
      "image/png": "[encoded data removed]",
      "text/plain": [
       "<Figure size 1800x1440 with 14 Axes>"
      ]
     },
     "metadata": {
      "needs_background": "light"
     },
     "output_type": "display_data"
    }
   ],
   "source": [
    "plt.figure(figsize=[25,20])\n",
    "j=1\n",
    "for i in map_cols:\n",
    "    plt.subplot(4,4,j)\n",
    "    \n",
    "    sns.countplot(leads[i],hue=leads['Converted'])\n",
    "    j+=1\n",
    "plt.show()"
   ]
  },
  {
   "cell_type": "markdown",
   "metadata": {},
   "source": [
    "## Treating outliers"
   ]
  },
  {
   "cell_type": "code",
   "execution_count": 43,
   "metadata": {},
   "outputs": [
    {
     "data": {
      "image/png": "[encoded data removed]",
      "text/plain": [
       "<Figure size 1152x360 with 3 Axes>"
      ]
     },
     "metadata": {
      "needs_background": "light"
     },
     "output_type": "display_data"
    }
   ],
   "source": [
    "num_cols=['Total Time Spent on Website','TotalVisits','Page Views Per Visit']\n",
    "plt.figure(figsize=[16,5])\n",
    "j=1\n",
    "for i in num_cols:\n",
    "    plt.subplot(1,3,j)\n",
    "    sns.boxplot(leads[i])\n",
    "    j+=1\n",
    "plt.show()"
   ]
  },
  {
   "cell_type": "code",
   "execution_count": 44,
   "metadata": {},
   "outputs": [
    {
     "data": {
      "text/html": [
       "<div>\n",
       "<style scoped>\n",
       "    .dataframe tbody tr th:only-of-type {\n",
       "        vertical-align: middle;\n",
       "    }\n",
       "\n",
       "    .dataframe tbody tr th {\n",
       "        vertical-align: top;\n",
       "    }\n",
       "\n",
       "    .dataframe thead th {\n",
       "        text-align: right;\n",
       "    }\n",
       "</style>\n",
       "<table border=\"1\" class=\"dataframe\">\n",
       "  <thead>\n",
       "    <tr style=\"text-align: right;\">\n",
       "      <th></th>\n",
       "      <th>TotalVisits</th>\n",
       "      <th>Page Views Per Visit</th>\n",
       "    </tr>\n",
       "  </thead>\n",
       "  <tbody>\n",
       "    <tr>\n",
       "      <th>count</th>\n",
       "      <td>9074.000000</td>\n",
       "      <td>9074.000000</td>\n",
       "    </tr>\n",
       "    <tr>\n",
       "      <th>mean</th>\n",
       "      <td>3.456028</td>\n",
       "      <td>2.370151</td>\n",
       "    </tr>\n",
       "    <tr>\n",
       "      <th>std</th>\n",
       "      <td>4.858802</td>\n",
       "      <td>2.160871</td>\n",
       "    </tr>\n",
       "    <tr>\n",
       "      <th>min</th>\n",
       "      <td>0.000000</td>\n",
       "      <td>0.000000</td>\n",
       "    </tr>\n",
       "    <tr>\n",
       "      <th>25%</th>\n",
       "      <td>1.000000</td>\n",
       "      <td>1.000000</td>\n",
       "    </tr>\n",
       "    <tr>\n",
       "      <th>50%</th>\n",
       "      <td>3.000000</td>\n",
       "      <td>2.000000</td>\n",
       "    </tr>\n",
       "    <tr>\n",
       "      <th>75%</th>\n",
       "      <td>5.000000</td>\n",
       "      <td>3.200000</td>\n",
       "    </tr>\n",
       "    <tr>\n",
       "      <th>max</th>\n",
       "      <td>251.000000</td>\n",
       "      <td>55.000000</td>\n",
       "    </tr>\n",
       "  </tbody>\n",
       "</table>\n",
       "</div>"
      ],
      "text/plain": [
       "       TotalVisits  Page Views Per Visit\n",
       "count  9074.000000           9074.000000\n",
       "mean      3.456028              2.370151\n",
       "std       4.858802              2.160871\n",
       "min       0.000000              0.000000\n",
       "25%       1.000000              1.000000\n",
       "50%       3.000000              2.000000\n",
       "75%       5.000000              3.200000\n",
       "max     251.000000             55.000000"
      ]
     },
     "execution_count": 44,
     "metadata": {},
     "output_type": "execute_result"
    }
   ],
   "source": [
    "# Handling outliers\n",
    "leads[num_cols[1:]].describe()\n"
   ]
  },
  {
   "cell_type": "code",
   "execution_count": 45,
   "metadata": {
    "scrolled": true
   },
   "outputs": [
    {
     "name": "stdout",
     "output_type": "stream",
     "text": [
      "For TotalVisits\n"
     ]
    },
    {
     "data": {
      "text/plain": [
       "0.00     0.0\n",
       "0.10     0.0\n",
       "0.50     3.0\n",
       "0.25     1.0\n",
       "0.50     3.0\n",
       "0.75     5.0\n",
       "0.80     5.0\n",
       "0.90     7.0\n",
       "0.95    10.0\n",
       "0.99    17.0\n",
       "Name: TotalVisits, dtype: float64"
      ]
     },
     "execution_count": 45,
     "metadata": {},
     "output_type": "execute_result"
    }
   ],
   "source": [
    "# checking for various quantiles\n",
    "print('For',num_cols[1])\n",
    "leads[num_cols[1]].quantile([0,0.1,0.5,0.25,0.5,0.75,0.8,0.9,0.95,0.99])"
   ]
  },
  {
   "cell_type": "code",
   "execution_count": 46,
   "metadata": {
    "scrolled": true
   },
   "outputs": [
    {
     "name": "stdout",
     "output_type": "stream",
     "text": [
      "For Page Views Per Visit\n"
     ]
    },
    {
     "data": {
      "text/plain": [
       "0.00    0.0\n",
       "0.10    0.0\n",
       "0.50    2.0\n",
       "0.25    1.0\n",
       "0.50    2.0\n",
       "0.75    3.2\n",
       "0.80    4.0\n",
       "0.90    5.0\n",
       "0.95    6.0\n",
       "0.99    9.0\n",
       "Name: Page Views Per Visit, dtype: float64"
      ]
     },
     "execution_count": 46,
     "metadata": {},
     "output_type": "execute_result"
    }
   ],
   "source": [
    "# checking for various quantiles\n",
    "print('For',num_cols[2])\n",
    "leads[num_cols[2]].quantile([0,0.1,0.5,0.25,0.5,0.75,0.8,0.9,0.95,0.99])"
   ]
  },
  {
   "cell_type": "code",
   "execution_count": 47,
   "metadata": {},
   "outputs": [],
   "source": [
    "# outlier handling for 'TotlaVisits'\n",
    "Q1=leads['TotalVisits'].quantile(0.05)\n",
    "Q3=leads['TotalVisits'].quantile(0.95)\n",
    "\n",
    "IQR=Q3-Q1\n",
    "\n",
    "leads=leads[(leads['TotalVisits']>=Q1-1.5*IQR) & (leads['TotalVisits']<=Q3+1.5*IQR)]"
   ]
  },
  {
   "cell_type": "code",
   "execution_count": 48,
   "metadata": {
    "scrolled": false
   },
   "outputs": [],
   "source": [
    "# Outlier Handling for 'Page Views Per Visit'\n",
    "Q1=leads['Page Views Per Visit'].quantile(0.05)\n",
    "Q3=leads['Page Views Per Visit'].quantile(0.95)\n",
    "\n",
    "IQR=Q3-Q1\n",
    "\n",
    "leads=leads[(leads['Page Views Per Visit']>=Q1-1.5*IQR) & (leads['Page Views Per Visit']<=Q3+1.5*IQR)]"
   ]
  },
  {
   "cell_type": "code",
   "execution_count": 49,
   "metadata": {},
   "outputs": [
    {
     "data": {
      "text/plain": [
       "(9048, 24)"
      ]
     },
     "execution_count": 49,
     "metadata": {},
     "output_type": "execute_result"
    }
   ],
   "source": [
    "# Rechecking the shape of the dataframe leads\n",
    "leads.shape"
   ]
  },
  {
   "cell_type": "markdown",
   "metadata": {},
   "source": [
    "### Multivariate analysis\n"
   ]
  },
  {
   "cell_type": "code",
   "execution_count": 50,
   "metadata": {},
   "outputs": [
    {
     "data": {
      "text/html": [
       "<div>\n",
       "<style scoped>\n",
       "    .dataframe tbody tr th:only-of-type {\n",
       "        vertical-align: middle;\n",
       "    }\n",
       "\n",
       "    .dataframe tbody tr th {\n",
       "        vertical-align: top;\n",
       "    }\n",
       "\n",
       "    .dataframe thead th {\n",
       "        text-align: right;\n",
       "    }\n",
       "</style>\n",
       "<table border=\"1\" class=\"dataframe\">\n",
       "  <thead>\n",
       "    <tr style=\"text-align: right;\">\n",
       "      <th></th>\n",
       "      <th>Lead Number</th>\n",
       "      <th>Converted</th>\n",
       "      <th>TotalVisits</th>\n",
       "      <th>Total Time Spent on Website</th>\n",
       "      <th>Page Views Per Visit</th>\n",
       "    </tr>\n",
       "  </thead>\n",
       "  <tbody>\n",
       "    <tr>\n",
       "      <th>Lead Number</th>\n",
       "      <td>1.000000</td>\n",
       "      <td>0.023713</td>\n",
       "      <td>0.040736</td>\n",
       "      <td>0.018994</td>\n",
       "      <td>0.060242</td>\n",
       "    </tr>\n",
       "    <tr>\n",
       "      <th>Converted</th>\n",
       "      <td>0.023713</td>\n",
       "      <td>1.000000</td>\n",
       "      <td>0.052506</td>\n",
       "      <td>0.359646</td>\n",
       "      <td>0.004002</td>\n",
       "    </tr>\n",
       "    <tr>\n",
       "      <th>TotalVisits</th>\n",
       "      <td>0.040736</td>\n",
       "      <td>0.052506</td>\n",
       "      <td>1.000000</td>\n",
       "      <td>0.328952</td>\n",
       "      <td>0.689369</td>\n",
       "    </tr>\n",
       "    <tr>\n",
       "      <th>Total Time Spent on Website</th>\n",
       "      <td>0.018994</td>\n",
       "      <td>0.359646</td>\n",
       "      <td>0.328952</td>\n",
       "      <td>1.000000</td>\n",
       "      <td>0.336208</td>\n",
       "    </tr>\n",
       "    <tr>\n",
       "      <th>Page Views Per Visit</th>\n",
       "      <td>0.060242</td>\n",
       "      <td>0.004002</td>\n",
       "      <td>0.689369</td>\n",
       "      <td>0.336208</td>\n",
       "      <td>1.000000</td>\n",
       "    </tr>\n",
       "  </tbody>\n",
       "</table>\n",
       "</div>"
      ],
      "text/plain": [
       "                             Lead Number  Converted  TotalVisits  \\\n",
       "Lead Number                     1.000000   0.023713     0.040736   \n",
       "Converted                       0.023713   1.000000     0.052506   \n",
       "TotalVisits                     0.040736   0.052506     1.000000   \n",
       "Total Time Spent on Website     0.018994   0.359646     0.328952   \n",
       "Page Views Per Visit            0.060242   0.004002     0.689369   \n",
       "\n",
       "                             Total Time Spent on Website  Page Views Per Visit  \n",
       "Lead Number                                     0.018994              0.060242  \n",
       "Converted                                       0.359646              0.004002  \n",
       "TotalVisits                                     0.328952              0.689369  \n",
       "Total Time Spent on Website                     1.000000              0.336208  \n",
       "Page Views Per Visit                            0.336208              1.000000  "
      ]
     },
     "execution_count": 50,
     "metadata": {},
     "output_type": "execute_result"
    }
   ],
   "source": [
    "# create a correlation and then plotting the heatmap\n",
    "leads_corr=leads.corr()\n",
    "leads_corr"
   ]
  },
  {
   "cell_type": "code",
   "execution_count": 51,
   "metadata": {},
   "outputs": [
    {
     "data": {
      "text/plain": [
       "<AxesSubplot:>"
      ]
     },
     "execution_count": 51,
     "metadata": {},
     "output_type": "execute_result"
    },
    {
     "data": {
      "image/png": "[encoded data removed]",
      "text/plain": [
       "<Figure size 1008x576 with 2 Axes>"
      ]
     },
     "metadata": {
      "needs_background": "light"
     },
     "output_type": "display_data"
    }
   ],
   "source": [
    "plt.figure(figsize=[14,8])\n",
    "sns.heatmap(leads_corr,annot=True,cmap='Set3',center=0.4)"
   ]
  },
  {
   "cell_type": "markdown",
   "metadata": {},
   "source": [
    "### Mapping the Yes and No values to 1 and 0"
   ]
  },
  {
   "cell_type": "code",
   "execution_count": 52,
   "metadata": {},
   "outputs": [],
   "source": [
    "# removing these four columns from the map_cols as they only contain zero as their value,(observed from eda)\n",
    "mapcols_remove=['I agree to pay the amount through cheque','Receive More Updates About Our Courses','Update me on Supply Chain Content','Get updates on DM Content']\n",
    "for i in mapcols_remove:\n",
    "    map_cols.remove(i)\n",
    "    leads.drop(i,axis=1,inplace=True)"
   ]
  },
  {
   "cell_type": "code",
   "execution_count": 53,
   "metadata": {},
   "outputs": [],
   "source": [
    "for i in map_cols:\n",
    "    leads[i]=leads[i].apply(lambda x:1 if x.lower()=='yes' else 0)\n",
    "    "
   ]
  },
  {
   "cell_type": "markdown",
   "metadata": {},
   "source": [
    "### Dummyfying  Categorical variables"
   ]
  },
  {
   "cell_type": "code",
   "execution_count": 54,
   "metadata": {},
   "outputs": [
    {
     "data": {
      "text/plain": [
       "['Prospect ID', 'Lead Origin', 'Lead Source', 'Specialization', 'City']"
      ]
     },
     "execution_count": 54,
     "metadata": {},
     "output_type": "execute_result"
    }
   ],
   "source": [
    "# having a look at the categorical columns\n",
    "cat_cols"
   ]
  },
  {
   "cell_type": "code",
   "execution_count": 55,
   "metadata": {},
   "outputs": [],
   "source": [
    "# removing prospect_id from the cat_cols\n",
    "cat_cols.remove('Prospect ID')"
   ]
  },
  {
   "cell_type": "code",
   "execution_count": 56,
   "metadata": {},
   "outputs": [],
   "source": [
    "# dummifying these varoables\n",
    "\n",
    "for i in cat_cols:\n",
    "    dummies=pd.get_dummies(leads[i],drop_first=True,prefix=i)\n",
    "    dummies['Lead Number']=leads['Lead Number']\n",
    "    leads.drop(i,axis=1,inplace=True)\n",
    "    leads=pd.merge(leads,dummies,how='inner',on='Lead Number')"
   ]
  },
  {
   "cell_type": "code",
   "execution_count": 57,
   "metadata": {},
   "outputs": [
    {
     "data": {
      "text/plain": [
       "(9048, 50)"
      ]
     },
     "execution_count": 57,
     "metadata": {},
     "output_type": "execute_result"
    }
   ],
   "source": [
    "leads.shape"
   ]
  },
  {
   "cell_type": "markdown",
   "metadata": {},
   "source": [
    "### splitting into testdataset and traindataset"
   ]
  },
  {
   "cell_type": "code",
   "execution_count": 58,
   "metadata": {},
   "outputs": [],
   "source": [
    "leadstrain,leadstest=train_test_split(leads,train_size=0.75,random_state=100)"
   ]
  },
  {
   "cell_type": "markdown",
   "metadata": {},
   "source": [
    "### Doing analysis on train dataset"
   ]
  },
  {
   "cell_type": "markdown",
   "metadata": {},
   "source": [
    "### scaling Numerical columns"
   ]
  },
  {
   "cell_type": "code",
   "execution_count": 59,
   "metadata": {},
   "outputs": [],
   "source": [
    "scaler=StandardScaler()\n",
    "\n",
    "leadstrain[num_cols]=scaler.fit_transform(leadstrain[num_cols])"
   ]
  },
  {
   "cell_type": "code",
   "execution_count": 60,
   "metadata": {},
   "outputs": [],
   "source": [
    "# getting the X and y for the train dataset\n",
    "y=leadstrain.pop('Converted')\n",
    "X=leadstrain.iloc[:,2:]"
   ]
  },
  {
   "cell_type": "code",
   "execution_count": 61,
   "metadata": {},
   "outputs": [],
   "source": [
    "# predefining required functions\n",
    "\n",
    "def vif(df):\n",
    "    vif=pd.DataFrame()\n",
    "    vif['Columns']=df.columns\n",
    "    vif['VIF']=[variance_inflation_factor(df.values,i) for i in range(df.shape[1])]\n",
    "    vif.sort_values(by='VIF',ascending=False,inplace=True)\n",
    "    vif['VIF']=round(vif['VIF'],2)\n",
    "\n",
    "    return vif\n",
    "\n",
    "\n",
    "def logitmodel(columns):\n",
    "    X_sm=sm.add_constant(X[columns])\n",
    "    model=sm.GLM(y,X_sm,family=sm.families.Binomial()).fit()\n",
    "    print(model.summary())\n",
    "    \n",
    "    \n"
   ]
  },
  {
   "cell_type": "code",
   "execution_count": 62,
   "metadata": {
    "scrolled": true
   },
   "outputs": [
    {
     "data": {
      "text/html": [
       "<table class=\"simpletable\">\n",
       "<caption>Generalized Linear Model Regression Results</caption>\n",
       "<tr>\n",
       "  <th>Dep. Variable:</th>       <td>Converted</td>    <th>  No. Observations:  </th>  <td>  6786</td> \n",
       "</tr>\n",
       "<tr>\n",
       "  <th>Model:</th>                  <td>GLM</td>       <th>  Df Residuals:      </th>  <td>  6740</td> \n",
       "</tr>\n",
       "<tr>\n",
       "  <th>Model Family:</th>        <td>Gaussian</td>     <th>  Df Model:          </th>  <td>    45</td> \n",
       "</tr>\n",
       "<tr>\n",
       "  <th>Link Function:</th>       <td>identity</td>     <th>  Scale:             </th> <td> 0.16133</td>\n",
       "</tr>\n",
       "<tr>\n",
       "  <th>Method:</th>                <td>IRLS</td>       <th>  Log-Likelihood:    </th> <td> -3415.9</td>\n",
       "</tr>\n",
       "<tr>\n",
       "  <th>Date:</th>            <td>Mon, 14 Jun 2021</td> <th>  Deviance:          </th> <td>  1087.4</td>\n",
       "</tr>\n",
       "<tr>\n",
       "  <th>Time:</th>                <td>08:59:32</td>     <th>  Pearson chi2:      </th> <td>1.09e+03</td>\n",
       "</tr>\n",
       "<tr>\n",
       "  <th>No. Iterations:</th>          <td>3</td>        <th>                     </th>     <td> </td>   \n",
       "</tr>\n",
       "<tr>\n",
       "  <th>Covariance Type:</th>     <td>nonrobust</td>    <th>                     </th>     <td> </td>   \n",
       "</tr>\n",
       "</table>\n",
       "<table class=\"simpletable\">\n",
       "<tr>\n",
       "                      <td></td>                        <th>coef</th>     <th>std err</th>      <th>z</th>      <th>P>|z|</th>  <th>[0.025</th>    <th>0.975]</th>  \n",
       "</tr>\n",
       "<tr>\n",
       "  <th>const</th>                                    <td>    0.4860</td> <td>    0.034</td> <td>   14.294</td> <td> 0.000</td> <td>    0.419</td> <td>    0.553</td>\n",
       "</tr>\n",
       "<tr>\n",
       "  <th>Do Not Email</th>                             <td>   -0.1637</td> <td>    0.019</td> <td>   -8.718</td> <td> 0.000</td> <td>   -0.201</td> <td>   -0.127</td>\n",
       "</tr>\n",
       "<tr>\n",
       "  <th>Do Not Call</th>                              <td>    0.0485</td> <td>    0.285</td> <td>    0.170</td> <td> 0.865</td> <td>   -0.510</td> <td>    0.607</td>\n",
       "</tr>\n",
       "<tr>\n",
       "  <th>TotalVisits</th>                              <td>    0.0304</td> <td>    0.007</td> <td>    4.294</td> <td> 0.000</td> <td>    0.017</td> <td>    0.044</td>\n",
       "</tr>\n",
       "<tr>\n",
       "  <th>Total Time Spent on Website</th>              <td>    0.2151</td> <td>    0.006</td> <td>   38.315</td> <td> 0.000</td> <td>    0.204</td> <td>    0.226</td>\n",
       "</tr>\n",
       "<tr>\n",
       "  <th>Page Views Per Visit</th>                     <td>   -0.0161</td> <td>    0.008</td> <td>   -2.050</td> <td> 0.040</td> <td>   -0.031</td> <td>   -0.001</td>\n",
       "</tr>\n",
       "<tr>\n",
       "  <th>Search</th>                                   <td>   -0.0447</td> <td>    0.130</td> <td>   -0.345</td> <td> 0.730</td> <td>   -0.299</td> <td>    0.209</td>\n",
       "</tr>\n",
       "<tr>\n",
       "  <th>Magazine</th>                                 <td>-6.779e-16</td> <td> 1.06e-15</td> <td>   -0.638</td> <td> 0.523</td> <td>-2.76e-15</td> <td>  1.4e-15</td>\n",
       "</tr>\n",
       "<tr>\n",
       "  <th>Newspaper Article</th>                        <td>    0.6546</td> <td>    0.403</td> <td>    1.625</td> <td> 0.104</td> <td>   -0.135</td> <td>    1.444</td>\n",
       "</tr>\n",
       "<tr>\n",
       "  <th>X Education Forums</th>                       <td>   -0.7870</td> <td>    0.307</td> <td>   -2.564</td> <td> 0.010</td> <td>   -1.389</td> <td>   -0.185</td>\n",
       "</tr>\n",
       "<tr>\n",
       "  <th>Newspaper</th>                                <td>   -0.9107</td> <td>    0.403</td> <td>   -2.262</td> <td> 0.024</td> <td>   -1.700</td> <td>   -0.122</td>\n",
       "</tr>\n",
       "<tr>\n",
       "  <th>Digital Advertisement</th>                    <td>   -0.7870</td> <td>    0.307</td> <td>   -2.564</td> <td> 0.010</td> <td>   -1.389</td> <td>   -0.185</td>\n",
       "</tr>\n",
       "<tr>\n",
       "  <th>Through Recommendations</th>                  <td>    0.3399</td> <td>    0.204</td> <td>    1.667</td> <td> 0.096</td> <td>   -0.060</td> <td>    0.740</td>\n",
       "</tr>\n",
       "<tr>\n",
       "  <th>A free copy of Mastering The Interview</th>   <td>   -0.0448</td> <td>    0.016</td> <td>   -2.875</td> <td> 0.004</td> <td>   -0.075</td> <td>   -0.014</td>\n",
       "</tr>\n",
       "<tr>\n",
       "  <th>Lead Origin_Landing Page Submission</th>      <td>   -0.1392</td> <td>    0.019</td> <td>   -7.154</td> <td> 0.000</td> <td>   -0.177</td> <td>   -0.101</td>\n",
       "</tr>\n",
       "<tr>\n",
       "  <th>Lead Origin_Lead Add Form</th>                <td>    0.2487</td> <td>    0.173</td> <td>    1.440</td> <td> 0.150</td> <td>   -0.090</td> <td>    0.587</td>\n",
       "</tr>\n",
       "<tr>\n",
       "  <th>Lead Origin_Lead Import</th>                  <td>    0.3440</td> <td>    0.412</td> <td>    0.834</td> <td> 0.404</td> <td>   -0.464</td> <td>    1.152</td>\n",
       "</tr>\n",
       "<tr>\n",
       "  <th>Lead Source_Facebook</th>                     <td>   -0.0861</td> <td>    0.403</td> <td>   -0.214</td> <td> 0.831</td> <td>   -0.876</td> <td>    0.703</td>\n",
       "</tr>\n",
       "<tr>\n",
       "  <th>Lead Source_Google</th>                       <td>    0.0276</td> <td>    0.016</td> <td>    1.687</td> <td> 0.092</td> <td>   -0.004</td> <td>    0.060</td>\n",
       "</tr>\n",
       "<tr>\n",
       "  <th>Lead Source_Olark Chat</th>                   <td>    0.1808</td> <td>    0.022</td> <td>    8.208</td> <td> 0.000</td> <td>    0.138</td> <td>    0.224</td>\n",
       "</tr>\n",
       "<tr>\n",
       "  <th>Lead Source_Organic Search</th>               <td>    0.0446</td> <td>    0.019</td> <td>    2.377</td> <td> 0.017</td> <td>    0.008</td> <td>    0.081</td>\n",
       "</tr>\n",
       "<tr>\n",
       "  <th>Lead Source_Others</th>                       <td>   -0.0373</td> <td>    0.106</td> <td>   -0.351</td> <td> 0.726</td> <td>   -0.246</td> <td>    0.171</td>\n",
       "</tr>\n",
       "<tr>\n",
       "  <th>Lead Source_Reference</th>                    <td>    0.4464</td> <td>    0.175</td> <td>    2.557</td> <td> 0.011</td> <td>    0.104</td> <td>    0.789</td>\n",
       "</tr>\n",
       "<tr>\n",
       "  <th>Lead Source_Referral Sites</th>               <td>   -0.0289</td> <td>    0.046</td> <td>   -0.625</td> <td> 0.532</td> <td>   -0.120</td> <td>    0.062</td>\n",
       "</tr>\n",
       "<tr>\n",
       "  <th>Lead Source_Welingak Website</th>             <td>    0.6660</td> <td>    0.178</td> <td>    3.747</td> <td> 0.000</td> <td>    0.318</td> <td>    1.014</td>\n",
       "</tr>\n",
       "<tr>\n",
       "  <th>Specialization_Business Administration</th>   <td>   -0.0172</td> <td>    0.034</td> <td>   -0.501</td> <td> 0.617</td> <td>   -0.084</td> <td>    0.050</td>\n",
       "</tr>\n",
       "<tr>\n",
       "  <th>Specialization_E-Business</th>                <td>   -0.0112</td> <td>    0.066</td> <td>   -0.168</td> <td> 0.866</td> <td>   -0.141</td> <td>    0.119</td>\n",
       "</tr>\n",
       "<tr>\n",
       "  <th>Specialization_E-COMMERCE</th>                <td>   -0.0076</td> <td>    0.053</td> <td>   -0.144</td> <td> 0.885</td> <td>   -0.111</td> <td>    0.096</td>\n",
       "</tr>\n",
       "<tr>\n",
       "  <th>Specialization_Finance Management</th>        <td>   -0.0193</td> <td>    0.029</td> <td>   -0.653</td> <td> 0.514</td> <td>   -0.077</td> <td>    0.039</td>\n",
       "</tr>\n",
       "<tr>\n",
       "  <th>Specialization_Healthcare Management</th>     <td>   -0.0138</td> <td>    0.045</td> <td>   -0.308</td> <td> 0.758</td> <td>   -0.102</td> <td>    0.074</td>\n",
       "</tr>\n",
       "<tr>\n",
       "  <th>Specialization_Hospitality Management</th>    <td>   -0.1040</td> <td>    0.052</td> <td>   -2.002</td> <td> 0.045</td> <td>   -0.206</td> <td>   -0.002</td>\n",
       "</tr>\n",
       "<tr>\n",
       "  <th>Specialization_Human Resource Management</th> <td>   -0.0346</td> <td>    0.030</td> <td>   -1.157</td> <td> 0.247</td> <td>   -0.093</td> <td>    0.024</td>\n",
       "</tr>\n",
       "<tr>\n",
       "  <th>Specialization_IT Projects Management</th>    <td>   -0.0218</td> <td>    0.035</td> <td>   -0.618</td> <td> 0.537</td> <td>   -0.091</td> <td>    0.047</td>\n",
       "</tr>\n",
       "<tr>\n",
       "  <th>Specialization_International Business</th>    <td>   -0.0320</td> <td>    0.044</td> <td>   -0.732</td> <td> 0.464</td> <td>   -0.118</td> <td>    0.054</td>\n",
       "</tr>\n",
       "<tr>\n",
       "  <th>Specialization_Marketing Management</th>      <td>   -0.0223</td> <td>    0.030</td> <td>   -0.738</td> <td> 0.461</td> <td>   -0.082</td> <td>    0.037</td>\n",
       "</tr>\n",
       "<tr>\n",
       "  <th>Specialization_Media and Advertising</th>     <td>   -0.0461</td> <td>    0.041</td> <td>   -1.114</td> <td> 0.265</td> <td>   -0.127</td> <td>    0.035</td>\n",
       "</tr>\n",
       "<tr>\n",
       "  <th>Specialization_Operations Management</th>     <td>   -0.0142</td> <td>    0.033</td> <td>   -0.429</td> <td> 0.668</td> <td>   -0.079</td> <td>    0.051</td>\n",
       "</tr>\n",
       "<tr>\n",
       "  <th>Specialization_Others</th>                    <td>   -0.2554</td> <td>    0.030</td> <td>   -8.386</td> <td> 0.000</td> <td>   -0.315</td> <td>   -0.196</td>\n",
       "</tr>\n",
       "<tr>\n",
       "  <th>Specialization_Retail Management</th>         <td>   -0.0833</td> <td>    0.055</td> <td>   -1.525</td> <td> 0.127</td> <td>   -0.190</td> <td>    0.024</td>\n",
       "</tr>\n",
       "<tr>\n",
       "  <th>Specialization_Rural and Agribusiness</th>    <td>    0.0101</td> <td>    0.057</td> <td>    0.177</td> <td> 0.860</td> <td>   -0.102</td> <td>    0.122</td>\n",
       "</tr>\n",
       "<tr>\n",
       "  <th>Specialization_Services Excellence</th>       <td>   -0.0155</td> <td>    0.073</td> <td>   -0.213</td> <td> 0.831</td> <td>   -0.158</td> <td>    0.127</td>\n",
       "</tr>\n",
       "<tr>\n",
       "  <th>Specialization_Supply Chain Management</th>   <td>   -0.0103</td> <td>    0.035</td> <td>   -0.291</td> <td> 0.771</td> <td>   -0.080</td> <td>    0.059</td>\n",
       "</tr>\n",
       "<tr>\n",
       "  <th>Specialization_Travel and Tourism</th>        <td>   -0.0419</td> <td>    0.043</td> <td>   -0.985</td> <td> 0.325</td> <td>   -0.125</td> <td>    0.041</td>\n",
       "</tr>\n",
       "<tr>\n",
       "  <th>City_Other Cities</th>                        <td>    0.0203</td> <td>    0.020</td> <td>    1.029</td> <td> 0.304</td> <td>   -0.018</td> <td>    0.059</td>\n",
       "</tr>\n",
       "<tr>\n",
       "  <th>City_Other Cities of Maharashtra</th>         <td>    0.0366</td> <td>    0.024</td> <td>    1.541</td> <td> 0.123</td> <td>   -0.010</td> <td>    0.083</td>\n",
       "</tr>\n",
       "<tr>\n",
       "  <th>City_Other Metro Cities</th>                  <td>    0.0494</td> <td>    0.025</td> <td>    1.951</td> <td> 0.051</td> <td>   -0.000</td> <td>    0.099</td>\n",
       "</tr>\n",
       "<tr>\n",
       "  <th>City_Thane & Outskirts</th>                   <td>   -0.0245</td> <td>    0.019</td> <td>   -1.314</td> <td> 0.189</td> <td>   -0.061</td> <td>    0.012</td>\n",
       "</tr>\n",
       "<tr>\n",
       "  <th>City_Tier II Cities</th>                      <td>    0.0201</td> <td>    0.057</td> <td>    0.355</td> <td> 0.723</td> <td>   -0.091</td> <td>    0.131</td>\n",
       "</tr>\n",
       "</table>"
      ],
      "text/plain": [
       "<class 'statsmodels.iolib.summary.Summary'>\n",
       "\"\"\"\n",
       "                 Generalized Linear Model Regression Results                  \n",
       "==============================================================================\n",
       "Dep. Variable:              Converted   No. Observations:                 6786\n",
       "Model:                            GLM   Df Residuals:                     6740\n",
       "Model Family:                Gaussian   Df Model:                           45\n",
       "Link Function:               identity   Scale:                         0.16133\n",
       "Method:                          IRLS   Log-Likelihood:                -3415.9\n",
       "Date:                Mon, 14 Jun 2021   Deviance:                       1087.4\n",
       "Time:                        08:59:32   Pearson chi2:                 1.09e+03\n",
       "No. Iterations:                     3                                         \n",
       "Covariance Type:            nonrobust                                         \n",
       "============================================================================================================\n",
       "                                               coef    std err          z      P>|z|      [0.025      0.975]\n",
       "------------------------------------------------------------------------------------------------------------\n",
       "const                                        0.4860      0.034     14.294      0.000       0.419       0.553\n",
       "Do Not Email                                -0.1637      0.019     -8.718      0.000      -0.201      -0.127\n",
       "Do Not Call                                  0.0485      0.285      0.170      0.865      -0.510       0.607\n",
       "TotalVisits                                  0.0304      0.007      4.294      0.000       0.017       0.044\n",
       "Total Time Spent on Website                  0.2151      0.006     38.315      0.000       0.204       0.226\n",
       "Page Views Per Visit                        -0.0161      0.008     -2.050      0.040      -0.031      -0.001\n",
       "Search                                      -0.0447      0.130     -0.345      0.730      -0.299       0.209\n",
       "Magazine                                 -6.779e-16   1.06e-15     -0.638      0.523   -2.76e-15     1.4e-15\n",
       "Newspaper Article                            0.6546      0.403      1.625      0.104      -0.135       1.444\n",
       "X Education Forums                          -0.7870      0.307     -2.564      0.010      -1.389      -0.185\n",
       "Newspaper                                   -0.9107      0.403     -2.262      0.024      -1.700      -0.122\n",
       "Digital Advertisement                       -0.7870      0.307     -2.564      0.010      -1.389      -0.185\n",
       "Through Recommendations                      0.3399      0.204      1.667      0.096      -0.060       0.740\n",
       "A free copy of Mastering The Interview      -0.0448      0.016     -2.875      0.004      -0.075      -0.014\n",
       "Lead Origin_Landing Page Submission         -0.1392      0.019     -7.154      0.000      -0.177      -0.101\n",
       "Lead Origin_Lead Add Form                    0.2487      0.173      1.440      0.150      -0.090       0.587\n",
       "Lead Origin_Lead Import                      0.3440      0.412      0.834      0.404      -0.464       1.152\n",
       "Lead Source_Facebook                        -0.0861      0.403     -0.214      0.831      -0.876       0.703\n",
       "Lead Source_Google                           0.0276      0.016      1.687      0.092      -0.004       0.060\n",
       "Lead Source_Olark Chat                       0.1808      0.022      8.208      0.000       0.138       0.224\n",
       "Lead Source_Organic Search                   0.0446      0.019      2.377      0.017       0.008       0.081\n",
       "Lead Source_Others                          -0.0373      0.106     -0.351      0.726      -0.246       0.171\n",
       "Lead Source_Reference                        0.4464      0.175      2.557      0.011       0.104       0.789\n",
       "Lead Source_Referral Sites                  -0.0289      0.046     -0.625      0.532      -0.120       0.062\n",
       "Lead Source_Welingak Website                 0.6660      0.178      3.747      0.000       0.318       1.014\n",
       "Specialization_Business Administration      -0.0172      0.034     -0.501      0.617      -0.084       0.050\n",
       "Specialization_E-Business                   -0.0112      0.066     -0.168      0.866      -0.141       0.119\n",
       "Specialization_E-COMMERCE                   -0.0076      0.053     -0.144      0.885      -0.111       0.096\n",
       "Specialization_Finance Management           -0.0193      0.029     -0.653      0.514      -0.077       0.039\n",
       "Specialization_Healthcare Management        -0.0138      0.045     -0.308      0.758      -0.102       0.074\n",
       "Specialization_Hospitality Management       -0.1040      0.052     -2.002      0.045      -0.206      -0.002\n",
       "Specialization_Human Resource Management    -0.0346      0.030     -1.157      0.247      -0.093       0.024\n",
       "Specialization_IT Projects Management       -0.0218      0.035     -0.618      0.537      -0.091       0.047\n",
       "Specialization_International Business       -0.0320      0.044     -0.732      0.464      -0.118       0.054\n",
       "Specialization_Marketing Management         -0.0223      0.030     -0.738      0.461      -0.082       0.037\n",
       "Specialization_Media and Advertising        -0.0461      0.041     -1.114      0.265      -0.127       0.035\n",
       "Specialization_Operations Management        -0.0142      0.033     -0.429      0.668      -0.079       0.051\n",
       "Specialization_Others                       -0.2554      0.030     -8.386      0.000      -0.315      -0.196\n",
       "Specialization_Retail Management            -0.0833      0.055     -1.525      0.127      -0.190       0.024\n",
       "Specialization_Rural and Agribusiness        0.0101      0.057      0.177      0.860      -0.102       0.122\n",
       "Specialization_Services Excellence          -0.0155      0.073     -0.213      0.831      -0.158       0.127\n",
       "Specialization_Supply Chain Management      -0.0103      0.035     -0.291      0.771      -0.080       0.059\n",
       "Specialization_Travel and Tourism           -0.0419      0.043     -0.985      0.325      -0.125       0.041\n",
       "City_Other Cities                            0.0203      0.020      1.029      0.304      -0.018       0.059\n",
       "City_Other Cities of Maharashtra             0.0366      0.024      1.541      0.123      -0.010       0.083\n",
       "City_Other Metro Cities                      0.0494      0.025      1.951      0.051      -0.000       0.099\n",
       "City_Thane & Outskirts                      -0.0245      0.019     -1.314      0.189      -0.061       0.012\n",
       "City_Tier II Cities                          0.0201      0.057      0.355      0.723      -0.091       0.131\n",
       "============================================================================================================\n",
       "\"\"\""
      ]
     },
     "execution_count": 62,
     "metadata": {},
     "output_type": "execute_result"
    }
   ],
   "source": [
    "# first creating the dataset for understanding\n",
    "X_sm=sm.add_constant(X)\n",
    "model=sm.GLM(y,X_sm).fit()\n",
    "model.summary()"
   ]
  },
  {
   "cell_type": "markdown",
   "metadata": {},
   "source": [
    "We will drop these insignificant variables having high p- values"
   ]
  },
  {
   "cell_type": "code",
   "execution_count": 63,
   "metadata": {},
   "outputs": [],
   "source": [
    "# RFE (Recursive Feature Elimination :- automated sorting of lesser important columns)\n",
    "\n",
    "Rfemodel=LogisticRegression()\n",
    "\n",
    "rfe=RFE(Rfemodel,15).fit(X,y)"
   ]
  },
  {
   "cell_type": "code",
   "execution_count": 64,
   "metadata": {
    "scrolled": true
   },
   "outputs": [
    {
     "data": {
      "text/plain": [
       "[('Do Not Email', True, 1),\n",
       " ('Do Not Call', False, 15),\n",
       " ('TotalVisits', False, 14),\n",
       " ('Total Time Spent on Website', True, 1),\n",
       " ('Page Views Per Visit', False, 22),\n",
       " ('Search', False, 9),\n",
       " ('Magazine', False, 33),\n",
       " ('Newspaper Article', False, 8),\n",
       " ('X Education Forums', True, 1),\n",
       " ('Newspaper', True, 1),\n",
       " ('Digital Advertisement', True, 1),\n",
       " ('Through Recommendations', True, 1),\n",
       " ('A free copy of Mastering The Interview', False, 4),\n",
       " ('Lead Origin_Landing Page Submission', True, 1),\n",
       " ('Lead Origin_Lead Add Form', True, 1),\n",
       " ('Lead Origin_Lead Import', True, 1),\n",
       " ('Lead Source_Facebook', True, 1),\n",
       " ('Lead Source_Google', False, 17),\n",
       " ('Lead Source_Olark Chat', True, 1),\n",
       " ('Lead Source_Organic Search', False, 5),\n",
       " ('Lead Source_Others', False, 2),\n",
       " ('Lead Source_Reference', True, 1),\n",
       " ('Lead Source_Referral Sites', False, 6),\n",
       " ('Lead Source_Welingak Website', True, 1),\n",
       " ('Specialization_Business Administration', False, 31),\n",
       " ('Specialization_E-Business', False, 28),\n",
       " ('Specialization_E-COMMERCE', False, 24),\n",
       " ('Specialization_Finance Management', False, 32),\n",
       " ('Specialization_Healthcare Management', False, 27),\n",
       " ('Specialization_Hospitality Management', True, 1),\n",
       " ('Specialization_Human Resource Management', False, 18),\n",
       " ('Specialization_IT Projects Management', False, 25),\n",
       " ('Specialization_International Business', False, 21),\n",
       " ('Specialization_Marketing Management', False, 23),\n",
       " ('Specialization_Media and Advertising', False, 13),\n",
       " ('Specialization_Operations Management', False, 30),\n",
       " ('Specialization_Others', True, 1),\n",
       " ('Specialization_Retail Management', False, 3),\n",
       " ('Specialization_Rural and Agribusiness', False, 11),\n",
       " ('Specialization_Services Excellence', False, 26),\n",
       " ('Specialization_Supply Chain Management', False, 29),\n",
       " ('Specialization_Travel and Tourism', False, 16),\n",
       " ('City_Other Cities', False, 19),\n",
       " ('City_Other Cities of Maharashtra', False, 10),\n",
       " ('City_Other Metro Cities', False, 7),\n",
       " ('City_Thane & Outskirts', False, 12),\n",
       " ('City_Tier II Cities', False, 20)]"
      ]
     },
     "execution_count": 64,
     "metadata": {},
     "output_type": "execute_result"
    }
   ],
   "source": [
    "# Having a look at the columns, whether or not they will have an impact on our model according to the rfe\n",
    "list(zip(X.columns,rfe.support_,rfe.ranking_))"
   ]
  },
  {
   "cell_type": "code",
   "execution_count": 65,
   "metadata": {},
   "outputs": [
    {
     "data": {
      "text/plain": [
       "['Do Not Email',\n",
       " 'Total Time Spent on Website',\n",
       " 'X Education Forums',\n",
       " 'Newspaper',\n",
       " 'Digital Advertisement',\n",
       " 'Through Recommendations',\n",
       " 'Lead Origin_Landing Page Submission',\n",
       " 'Lead Origin_Lead Add Form',\n",
       " 'Lead Origin_Lead Import',\n",
       " 'Lead Source_Facebook',\n",
       " 'Lead Source_Olark Chat',\n",
       " 'Lead Source_Reference',\n",
       " 'Lead Source_Welingak Website',\n",
       " 'Specialization_Hospitality Management',\n",
       " 'Specialization_Others']"
      ]
     },
     "execution_count": 65,
     "metadata": {},
     "output_type": "execute_result"
    }
   ],
   "source": [
    "# seggregating support_columns from the false \n",
    "sup_cols=X.columns[rfe.support_]\n",
    "# converting this series into list\n",
    "columns=sup_cols.to_list()\n",
    "columns"
   ]
  },
  {
   "cell_type": "markdown",
   "metadata": {},
   "source": [
    "Now checking and eliminating the columns with p value higher than the 0.05"
   ]
  },
  {
   "cell_type": "code",
   "execution_count": 66,
   "metadata": {},
   "outputs": [
    {
     "name": "stdout",
     "output_type": "stream",
     "text": [
      "                 Generalized Linear Model Regression Results                  \n",
      "==============================================================================\n",
      "Dep. Variable:              Converted   No. Observations:                 6786\n",
      "Model:                            GLM   Df Residuals:                     6771\n",
      "Model Family:                Binomial   Df Model:                           14\n",
      "Link Function:                  logit   Scale:                          1.0000\n",
      "Method:                          IRLS   Log-Likelihood:                -3314.9\n",
      "Date:                Mon, 14 Jun 2021   Deviance:                       6629.8\n",
      "Time:                        08:59:34   Pearson chi2:                 6.78e+03\n",
      "No. Iterations:                    21                                         \n",
      "Covariance Type:            nonrobust                                         \n",
      "=========================================================================================================\n",
      "                                            coef    std err          z      P>|z|      [0.025      0.975]\n",
      "---------------------------------------------------------------------------------------------------------\n",
      "const                                     0.1626      0.108      1.501      0.133      -0.050       0.375\n",
      "Do Not Email                             -1.3412      0.152     -8.813      0.000      -1.639      -1.043\n",
      "Total Time Spent on Website               1.1060      0.036     30.663      0.000       1.035       1.177\n",
      "X Education Forums                      -22.4099   2.61e+04     -0.001      0.999   -5.11e+04    5.11e+04\n",
      "Newspaper                               -24.4331   4.82e+04     -0.001      1.000   -9.45e+04    9.44e+04\n",
      "Digital Advertisement                   -22.4099   2.61e+04     -0.001      0.999   -5.11e+04    5.11e+04\n",
      "Through Recommendations                  22.4200      2e+04      0.001      0.999   -3.91e+04    3.92e+04\n",
      "Lead Origin_Landing Page Submission      -1.0158      0.113     -8.966      0.000      -1.238      -0.794\n",
      "Lead Origin_Lead Add Form                 1.0744      1.018      1.056      0.291      -0.920       3.069\n",
      "Lead Origin_Lead Import                  21.2488   4.82e+04      0.000      1.000   -9.44e+04    9.45e+04\n",
      "Lead Source_Facebook                    -20.0909   4.82e+04     -0.000      1.000   -9.45e+04    9.44e+04\n",
      "Lead Source_Olark Chat                    0.8734      0.107      8.195      0.000       0.665       1.082\n",
      "Lead Source_Reference                     2.7834      1.036      2.686      0.007       0.752       4.814\n",
      "Lead Source_Welingak Website              5.8790      1.433      4.103      0.000       3.070       8.688\n",
      "Specialization_Hospitality Management    -0.5625      0.291     -1.934      0.053      -1.133       0.008\n",
      "Specialization_Others                    -1.4411      0.109    -13.191      0.000      -1.655      -1.227\n",
      "=========================================================================================================\n"
     ]
    }
   ],
   "source": [
    "# model 1\n",
    "logitmodel(columns)"
   ]
  },
  {
   "cell_type": "markdown",
   "metadata": {},
   "source": [
    "Removing column `X Education Forums` due to high p value"
   ]
  },
  {
   "cell_type": "code",
   "execution_count": 67,
   "metadata": {},
   "outputs": [
    {
     "name": "stdout",
     "output_type": "stream",
     "text": [
      "                 Generalized Linear Model Regression Results                  \n",
      "==============================================================================\n",
      "Dep. Variable:              Converted   No. Observations:                 6786\n",
      "Model:                            GLM   Df Residuals:                     6771\n",
      "Model Family:                Binomial   Df Model:                           14\n",
      "Link Function:                  logit   Scale:                          1.0000\n",
      "Method:                          IRLS   Log-Likelihood:                -3314.9\n",
      "Date:                Mon, 14 Jun 2021   Deviance:                       6629.8\n",
      "Time:                        08:59:35   Pearson chi2:                 6.78e+03\n",
      "No. Iterations:                    21                                         \n",
      "Covariance Type:            nonrobust                                         \n",
      "=========================================================================================================\n",
      "                                            coef    std err          z      P>|z|      [0.025      0.975]\n",
      "---------------------------------------------------------------------------------------------------------\n",
      "const                                     0.1626      0.108      1.501      0.133      -0.050       0.375\n",
      "Do Not Email                             -1.3412      0.152     -8.813      0.000      -1.639      -1.043\n",
      "Total Time Spent on Website               1.1060      0.036     30.663      0.000       1.035       1.177\n",
      "Newspaper                               -24.4331   4.82e+04     -0.001      1.000   -9.45e+04    9.44e+04\n",
      "Digital Advertisement                   -44.8199   5.22e+04     -0.001      0.999   -1.02e+05    1.02e+05\n",
      "Through Recommendations                  22.4200      2e+04      0.001      0.999   -3.91e+04    3.92e+04\n",
      "Lead Origin_Landing Page Submission      -1.0158      0.113     -8.966      0.000      -1.238      -0.794\n",
      "Lead Origin_Lead Add Form                 1.0744      1.018      1.056      0.291      -0.920       3.069\n",
      "Lead Origin_Lead Import                  21.2488   4.82e+04      0.000      1.000   -9.44e+04    9.45e+04\n",
      "Lead Source_Facebook                    -20.0909   4.82e+04     -0.000      1.000   -9.45e+04    9.44e+04\n",
      "Lead Source_Olark Chat                    0.8734      0.107      8.195      0.000       0.665       1.082\n",
      "Lead Source_Reference                     2.7834      1.036      2.686      0.007       0.752       4.814\n",
      "Lead Source_Welingak Website              5.8790      1.433      4.103      0.000       3.070       8.688\n",
      "Specialization_Hospitality Management    -0.5625      0.291     -1.934      0.053      -1.133       0.008\n",
      "Specialization_Others                    -1.4411      0.109    -13.191      0.000      -1.655      -1.227\n",
      "=========================================================================================================\n"
     ]
    }
   ],
   "source": [
    "columns.remove('X Education Forums')\n",
    "logitmodel(columns)"
   ]
  },
  {
   "cell_type": "markdown",
   "metadata": {},
   "source": [
    "Removing the columns ` Newspaper` as it has the p values greater than 0.05"
   ]
  },
  {
   "cell_type": "code",
   "execution_count": 68,
   "metadata": {},
   "outputs": [
    {
     "name": "stdout",
     "output_type": "stream",
     "text": [
      "                 Generalized Linear Model Regression Results                  \n",
      "==============================================================================\n",
      "Dep. Variable:              Converted   No. Observations:                 6786\n",
      "Model:                            GLM   Df Residuals:                     6772\n",
      "Model Family:                Binomial   Df Model:                           13\n",
      "Link Function:                  logit   Scale:                          1.0000\n",
      "Method:                          IRLS   Log-Likelihood:                -3316.9\n",
      "Date:                Mon, 14 Jun 2021   Deviance:                       6633.8\n",
      "Time:                        08:59:35   Pearson chi2:                 6.78e+03\n",
      "No. Iterations:                    21                                         \n",
      "Covariance Type:            nonrobust                                         \n",
      "=========================================================================================================\n",
      "                                            coef    std err          z      P>|z|      [0.025      0.975]\n",
      "---------------------------------------------------------------------------------------------------------\n",
      "const                                     0.1635      0.108      1.509      0.131      -0.049       0.376\n",
      "Do Not Email                             -1.3399      0.152     -8.808      0.000      -1.638      -1.042\n",
      "Total Time Spent on Website               1.1037      0.036     30.634      0.000       1.033       1.174\n",
      "Digital Advertisement                   -44.8188   5.22e+04     -0.001      0.999   -1.02e+05    1.02e+05\n",
      "Through Recommendations                  22.4208      2e+04      0.001      0.999   -3.91e+04    3.92e+04\n",
      "Lead Origin_Landing Page Submission      -1.0172      0.113     -8.981      0.000      -1.239      -0.795\n",
      "Lead Origin_Lead Add Form                 1.0728      1.017      1.055      0.292      -0.921       3.066\n",
      "Lead Origin_Lead Import                  21.2458   4.82e+04      0.000      1.000   -9.44e+04    9.45e+04\n",
      "Lead Source_Facebook                    -20.0908   4.82e+04     -0.000      1.000   -9.45e+04    9.44e+04\n",
      "Lead Source_Olark Chat                    0.8706      0.107      8.173      0.000       0.662       1.079\n",
      "Lead Source_Reference                     2.7819      1.036      2.686      0.007       0.752       4.812\n",
      "Lead Source_Welingak Website              5.8774      1.433      4.102      0.000       3.069       8.685\n",
      "Specialization_Hospitality Management    -0.5603      0.291     -1.927      0.054      -1.130       0.010\n",
      "Specialization_Others                    -1.4411      0.109    -13.194      0.000      -1.655      -1.227\n",
      "=========================================================================================================\n"
     ]
    }
   ],
   "source": [
    "# model 3\n",
    "columns.remove('Newspaper')\n",
    "logitmodel(columns)"
   ]
  },
  {
   "cell_type": "markdown",
   "metadata": {},
   "source": [
    " Removing `Digital Advertisement` as it has p value greater than 0.05"
   ]
  },
  {
   "cell_type": "code",
   "execution_count": 69,
   "metadata": {},
   "outputs": [
    {
     "name": "stdout",
     "output_type": "stream",
     "text": [
      "                 Generalized Linear Model Regression Results                  \n",
      "==============================================================================\n",
      "Dep. Variable:              Converted   No. Observations:                 6786\n",
      "Model:                            GLM   Df Residuals:                     6773\n",
      "Model Family:                Binomial   Df Model:                           12\n",
      "Link Function:                  logit   Scale:                          1.0000\n",
      "Method:                          IRLS   Log-Likelihood:                -3319.3\n",
      "Date:                Mon, 14 Jun 2021   Deviance:                       6638.5\n",
      "Time:                        08:59:35   Pearson chi2:                 6.78e+03\n",
      "No. Iterations:                    19                                         \n",
      "Covariance Type:            nonrobust                                         \n",
      "=========================================================================================================\n",
      "                                            coef    std err          z      P>|z|      [0.025      0.975]\n",
      "---------------------------------------------------------------------------------------------------------\n",
      "const                                     0.1637      0.108      1.511      0.131      -0.049       0.376\n",
      "Do Not Email                             -1.3399      0.152     -8.808      0.000      -1.638      -1.042\n",
      "Total Time Spent on Website               1.1032      0.036     30.641      0.000       1.033       1.174\n",
      "Through Recommendations                   1.2628      1.268      0.995      0.319      -1.223       3.749\n",
      "Lead Origin_Landing Page Submission      -1.0172      0.113     -8.981      0.000      -1.239      -0.795\n",
      "Lead Origin_Lead Add Form                 1.0725      1.017      1.054      0.292      -0.921       3.066\n",
      "Lead Origin_Lead Import                  19.2455   1.77e+04      0.001      0.999   -3.47e+04    3.48e+04\n",
      "Lead Source_Facebook                    -18.0910   1.77e+04     -0.001      0.999   -3.48e+04    3.47e+04\n",
      "Lead Source_Olark Chat                    0.8702      0.107      8.170      0.000       0.661       1.079\n",
      "Lead Source_Reference                     2.7817      1.036      2.685      0.007       0.752       4.812\n",
      "Lead Source_Welingak Website              5.8771      1.433      4.102      0.000       3.069       8.685\n",
      "Specialization_Hospitality Management    -0.5600      0.291     -1.926      0.054      -1.130       0.010\n",
      "Specialization_Others                    -1.4410      0.109    -13.194      0.000      -1.655      -1.227\n",
      "=========================================================================================================\n"
     ]
    }
   ],
   "source": [
    "# model 4\n",
    "columns.remove('Digital Advertisement')\n",
    "logitmodel(columns)"
   ]
  },
  {
   "cell_type": "markdown",
   "metadata": {},
   "source": [
    "removing the column` Lead origin Lead import` because the p value for that particular column is >0.05"
   ]
  },
  {
   "cell_type": "code",
   "execution_count": 70,
   "metadata": {},
   "outputs": [
    {
     "name": "stdout",
     "output_type": "stream",
     "text": [
      "                 Generalized Linear Model Regression Results                  \n",
      "==============================================================================\n",
      "Dep. Variable:              Converted   No. Observations:                 6786\n",
      "Model:                            GLM   Df Residuals:                     6774\n",
      "Model Family:                Binomial   Df Model:                           11\n",
      "Link Function:                  logit   Scale:                          1.0000\n",
      "Method:                          IRLS   Log-Likelihood:                -3319.5\n",
      "Date:                Mon, 14 Jun 2021   Deviance:                       6639.0\n",
      "Time:                        08:59:35   Pearson chi2:                 6.78e+03\n",
      "No. Iterations:                     7                                         \n",
      "Covariance Type:            nonrobust                                         \n",
      "=========================================================================================================\n",
      "                                            coef    std err          z      P>|z|      [0.025      0.975]\n",
      "---------------------------------------------------------------------------------------------------------\n",
      "const                                     0.1671      0.108      1.545      0.122      -0.045       0.379\n",
      "Do Not Email                             -1.3398      0.152     -8.808      0.000      -1.638      -1.042\n",
      "Total Time Spent on Website               1.1030      0.036     30.638      0.000       1.032       1.174\n",
      "Through Recommendations                   1.2631      1.268      0.996      0.319      -1.223       3.749\n",
      "Lead Origin_Landing Page Submission      -1.0208      0.113     -9.029      0.000      -1.242      -0.799\n",
      "Lead Origin_Lead Add Form                 1.0699      1.017      1.052      0.293      -0.924       3.064\n",
      "Lead Source_Facebook                      1.1074      0.470      2.354      0.019       0.185       2.029\n",
      "Lead Source_Olark Chat                    0.8692      0.106      8.162      0.000       0.661       1.078\n",
      "Lead Source_Reference                     2.7823      1.036      2.686      0.007       0.752       4.813\n",
      "Lead Source_Welingak Website              5.8792      1.433      4.104      0.000       3.071       8.687\n",
      "Specialization_Hospitality Management    -0.5601      0.291     -1.927      0.054      -1.130       0.010\n",
      "Specialization_Others                    -1.4443      0.109    -13.241      0.000      -1.658      -1.230\n",
      "=========================================================================================================\n"
     ]
    }
   ],
   "source": [
    "# model 5\n",
    "columns.remove('Lead Origin_Lead Import')\n",
    "logitmodel(columns)"
   ]
  },
  {
   "cell_type": "markdown",
   "metadata": {},
   "source": [
    "Removing ` Through Recommendations`"
   ]
  },
  {
   "cell_type": "code",
   "execution_count": 71,
   "metadata": {},
   "outputs": [
    {
     "name": "stdout",
     "output_type": "stream",
     "text": [
      "                 Generalized Linear Model Regression Results                  \n",
      "==============================================================================\n",
      "Dep. Variable:              Converted   No. Observations:                 6786\n",
      "Model:                            GLM   Df Residuals:                     6775\n",
      "Model Family:                Binomial   Df Model:                           10\n",
      "Link Function:                  logit   Scale:                          1.0000\n",
      "Method:                          IRLS   Log-Likelihood:                -3320.1\n",
      "Date:                Mon, 14 Jun 2021   Deviance:                       6640.1\n",
      "Time:                        08:59:35   Pearson chi2:                 6.79e+03\n",
      "No. Iterations:                     7                                         \n",
      "Covariance Type:            nonrobust                                         \n",
      "=========================================================================================================\n",
      "                                            coef    std err          z      P>|z|      [0.025      0.975]\n",
      "---------------------------------------------------------------------------------------------------------\n",
      "const                                     0.1669      0.108      1.544      0.123      -0.045       0.379\n",
      "Do Not Email                             -1.3409      0.152     -8.815      0.000      -1.639      -1.043\n",
      "Total Time Spent on Website               1.1036      0.036     30.666      0.000       1.033       1.174\n",
      "Lead Origin_Landing Page Submission      -1.0194      0.113     -9.017      0.000      -1.241      -0.798\n",
      "Lead Origin_Lead Add Form                 1.0702      1.017      1.052      0.293      -0.924       3.064\n",
      "Lead Source_Facebook                      1.1081      0.470      2.355      0.018       0.186       2.030\n",
      "Lead Source_Olark Chat                    0.8702      0.106      8.173      0.000       0.661       1.079\n",
      "Lead Source_Reference                     2.7828      1.036      2.686      0.007       0.752       4.813\n",
      "Lead Source_Welingak Website              5.8798      1.433      4.104      0.000       3.072       8.688\n",
      "Specialization_Hospitality Management    -0.5616      0.291     -1.932      0.053      -1.131       0.008\n",
      "Specialization_Others                    -1.4443      0.109    -13.241      0.000      -1.658      -1.230\n",
      "=========================================================================================================\n"
     ]
    }
   ],
   "source": [
    "# model 6\n",
    "columns.remove('Through Recommendations')\n",
    "logitmodel(columns)"
   ]
  },
  {
   "cell_type": "markdown",
   "metadata": {},
   "source": [
    "Removing ` Lead Origin lead Add form`"
   ]
  },
  {
   "cell_type": "code",
   "execution_count": 72,
   "metadata": {},
   "outputs": [
    {
     "name": "stdout",
     "output_type": "stream",
     "text": [
      "                 Generalized Linear Model Regression Results                  \n",
      "==============================================================================\n",
      "Dep. Variable:              Converted   No. Observations:                 6786\n",
      "Model:                            GLM   Df Residuals:                     6776\n",
      "Model Family:                Binomial   Df Model:                            9\n",
      "Link Function:                  logit   Scale:                          1.0000\n",
      "Method:                          IRLS   Log-Likelihood:                -3320.6\n",
      "Date:                Mon, 14 Jun 2021   Deviance:                       6641.3\n",
      "Time:                        08:59:35   Pearson chi2:                 6.79e+03\n",
      "No. Iterations:                     7                                         \n",
      "Covariance Type:            nonrobust                                         \n",
      "=========================================================================================================\n",
      "                                            coef    std err          z      P>|z|      [0.025      0.975]\n",
      "---------------------------------------------------------------------------------------------------------\n",
      "const                                     0.1764      0.108      1.636      0.102      -0.035       0.388\n",
      "Do Not Email                             -1.3417      0.152     -8.820      0.000      -1.640      -1.044\n",
      "Total Time Spent on Website               1.1029      0.036     30.668      0.000       1.032       1.173\n",
      "Lead Origin_Landing Page Submission      -1.0284      0.113     -9.117      0.000      -1.250      -0.807\n",
      "Lead Source_Facebook                      1.1015      0.471      2.340      0.019       0.179       2.024\n",
      "Lead Source_Olark Chat                    0.8678      0.106      8.156      0.000       0.659       1.076\n",
      "Lead Source_Reference                     3.8469      0.225     17.075      0.000       3.405       4.288\n",
      "Lead Source_Welingak Website              6.9474      1.012      6.864      0.000       4.964       8.931\n",
      "Specialization_Hospitality Management    -0.5624      0.291     -1.934      0.053      -1.132       0.007\n",
      "Specialization_Others                    -1.4516      0.109    -13.327      0.000      -1.665      -1.238\n",
      "=========================================================================================================\n"
     ]
    }
   ],
   "source": [
    "# model 7\n",
    "columns.remove('Lead Origin_Lead Add Form')\n",
    "logitmodel(columns)"
   ]
  },
  {
   "cell_type": "markdown",
   "metadata": {},
   "source": [
    "Removing `Specialization Hospitality manmagement`"
   ]
  },
  {
   "cell_type": "code",
   "execution_count": 73,
   "metadata": {},
   "outputs": [
    {
     "name": "stdout",
     "output_type": "stream",
     "text": [
      "                 Generalized Linear Model Regression Results                  \n",
      "==============================================================================\n",
      "Dep. Variable:              Converted   No. Observations:                 6786\n",
      "Model:                            GLM   Df Residuals:                     6777\n",
      "Model Family:                Binomial   Df Model:                            8\n",
      "Link Function:                  logit   Scale:                          1.0000\n",
      "Method:                          IRLS   Log-Likelihood:                -3322.6\n",
      "Date:                Mon, 14 Jun 2021   Deviance:                       6645.1\n",
      "Time:                        08:59:35   Pearson chi2:                 6.80e+03\n",
      "No. Iterations:                     7                                         \n",
      "Covariance Type:            nonrobust                                         \n",
      "=======================================================================================================\n",
      "                                          coef    std err          z      P>|z|      [0.025      0.975]\n",
      "-------------------------------------------------------------------------------------------------------\n",
      "const                                   0.1692      0.108      1.570      0.116      -0.042       0.380\n",
      "Do Not Email                           -1.3455      0.152     -8.849      0.000      -1.644      -1.048\n",
      "Total Time Spent on Website             1.1000      0.036     30.648      0.000       1.030       1.170\n",
      "Lead Origin_Landing Page Submission    -1.0296      0.113     -9.131      0.000      -1.251      -0.809\n",
      "Lead Source_Facebook                    1.1029      0.470      2.345      0.019       0.181       2.025\n",
      "Lead Source_Olark Chat                  0.8659      0.106      8.144      0.000       0.658       1.074\n",
      "Lead Source_Reference                   3.8383      0.225     17.040      0.000       3.397       4.280\n",
      "Lead Source_Welingak Website            6.9454      1.012      6.862      0.000       4.962       8.929\n",
      "Specialization_Others                  -1.4438      0.109    -13.272      0.000      -1.657      -1.231\n",
      "=======================================================================================================\n"
     ]
    }
   ],
   "source": [
    "# model 8\n",
    "columns.remove('Specialization_Hospitality Management')\n",
    "logitmodel(columns)"
   ]
  },
  {
   "cell_type": "code",
   "execution_count": 74,
   "metadata": {},
   "outputs": [
    {
     "data": {
      "text/html": [
       "<div>\n",
       "<style scoped>\n",
       "    .dataframe tbody tr th:only-of-type {\n",
       "        vertical-align: middle;\n",
       "    }\n",
       "\n",
       "    .dataframe tbody tr th {\n",
       "        vertical-align: top;\n",
       "    }\n",
       "\n",
       "    .dataframe thead th {\n",
       "        text-align: right;\n",
       "    }\n",
       "</style>\n",
       "<table border=\"1\" class=\"dataframe\">\n",
       "  <thead>\n",
       "    <tr style=\"text-align: right;\">\n",
       "      <th></th>\n",
       "      <th>Columns</th>\n",
       "      <th>VIF</th>\n",
       "    </tr>\n",
       "  </thead>\n",
       "  <tbody>\n",
       "    <tr>\n",
       "      <th>4</th>\n",
       "      <td>Lead Source_Olark Chat</td>\n",
       "      <td>1.87</td>\n",
       "    </tr>\n",
       "    <tr>\n",
       "      <th>7</th>\n",
       "      <td>Specialization_Others</td>\n",
       "      <td>1.82</td>\n",
       "    </tr>\n",
       "    <tr>\n",
       "      <th>1</th>\n",
       "      <td>Total Time Spent on Website</td>\n",
       "      <td>1.25</td>\n",
       "    </tr>\n",
       "    <tr>\n",
       "      <th>2</th>\n",
       "      <td>Lead Origin_Landing Page Submission</td>\n",
       "      <td>1.14</td>\n",
       "    </tr>\n",
       "    <tr>\n",
       "      <th>0</th>\n",
       "      <td>Do Not Email</td>\n",
       "      <td>1.10</td>\n",
       "    </tr>\n",
       "    <tr>\n",
       "      <th>6</th>\n",
       "      <td>Lead Source_Welingak Website</td>\n",
       "      <td>1.07</td>\n",
       "    </tr>\n",
       "    <tr>\n",
       "      <th>5</th>\n",
       "      <td>Lead Source_Reference</td>\n",
       "      <td>1.05</td>\n",
       "    </tr>\n",
       "    <tr>\n",
       "      <th>3</th>\n",
       "      <td>Lead Source_Facebook</td>\n",
       "      <td>1.01</td>\n",
       "    </tr>\n",
       "  </tbody>\n",
       "</table>\n",
       "</div>"
      ],
      "text/plain": [
       "                               Columns   VIF\n",
       "4               Lead Source_Olark Chat  1.87\n",
       "7                Specialization_Others  1.82\n",
       "1          Total Time Spent on Website  1.25\n",
       "2  Lead Origin_Landing Page Submission  1.14\n",
       "0                         Do Not Email  1.10\n",
       "6         Lead Source_Welingak Website  1.07\n",
       "5                Lead Source_Reference  1.05\n",
       "3                 Lead Source_Facebook  1.01"
      ]
     },
     "execution_count": 74,
     "metadata": {},
     "output_type": "execute_result"
    }
   ],
   "source": [
    "vif(X[columns])"
   ]
  },
  {
   "cell_type": "markdown",
   "metadata": {},
   "source": [
    "Vif values all seems to be within range "
   ]
  },
  {
   "cell_type": "markdown",
   "metadata": {},
   "source": [
    "Model 8  meets our standard lets name it as final model"
   ]
  },
  {
   "cell_type": "code",
   "execution_count": 75,
   "metadata": {},
   "outputs": [],
   "source": [
    "X_sm=sm.add_constant(X[columns])\n",
    "finalmodel=sm.GLM(y,X_sm,family=sm.families.Binomial()).fit()"
   ]
  },
  {
   "cell_type": "markdown",
   "metadata": {},
   "source": [
    "### Making predictions on train dataset"
   ]
  },
  {
   "cell_type": "code",
   "execution_count": 76,
   "metadata": {},
   "outputs": [],
   "source": [
    "# for train dataset\n",
    "y_pred=finalmodel.predict(X_sm)"
   ]
  },
  {
   "cell_type": "code",
   "execution_count": 77,
   "metadata": {},
   "outputs": [
    {
     "data": {
      "text/plain": [
       "728     0.114021\n",
       "1711    0.297154\n",
       "4100    0.147994\n",
       "3624    0.166340\n",
       "1072    0.474534\n",
       "dtype: float64"
      ]
     },
     "execution_count": 77,
     "metadata": {},
     "output_type": "execute_result"
    }
   ],
   "source": [
    "y_pred.head()"
   ]
  },
  {
   "cell_type": "markdown",
   "metadata": {},
   "source": [
    "Now creating a new prob_df"
   ]
  },
  {
   "cell_type": "code",
   "execution_count": 78,
   "metadata": {},
   "outputs": [],
   "source": [
    "# creating dataset to compare thresholds and get the best accuracy, sensitivity and specificity\n",
    "prob_df=pd.DataFrame()\n",
    "prob_df['Lead Number']=leadstrain['Lead Number']\n",
    "prob_df['Actual']=y\n",
    "prob_df['Probabilities']=y_pred"
   ]
  },
  {
   "cell_type": "code",
   "execution_count": 79,
   "metadata": {},
   "outputs": [
    {
     "data": {
      "text/html": [
       "<div>\n",
       "<style scoped>\n",
       "    .dataframe tbody tr th:only-of-type {\n",
       "        vertical-align: middle;\n",
       "    }\n",
       "\n",
       "    .dataframe tbody tr th {\n",
       "        vertical-align: top;\n",
       "    }\n",
       "\n",
       "    .dataframe thead th {\n",
       "        text-align: right;\n",
       "    }\n",
       "</style>\n",
       "<table border=\"1\" class=\"dataframe\">\n",
       "  <thead>\n",
       "    <tr style=\"text-align: right;\">\n",
       "      <th></th>\n",
       "      <th>Lead Number</th>\n",
       "      <th>Actual</th>\n",
       "      <th>Probabilities</th>\n",
       "    </tr>\n",
       "  </thead>\n",
       "  <tbody>\n",
       "    <tr>\n",
       "      <th>728</th>\n",
       "      <td>652531</td>\n",
       "      <td>0</td>\n",
       "      <td>0.114021</td>\n",
       "    </tr>\n",
       "    <tr>\n",
       "      <th>1711</th>\n",
       "      <td>642146</td>\n",
       "      <td>1</td>\n",
       "      <td>0.297154</td>\n",
       "    </tr>\n",
       "    <tr>\n",
       "      <th>4100</th>\n",
       "      <td>619533</td>\n",
       "      <td>0</td>\n",
       "      <td>0.147994</td>\n",
       "    </tr>\n",
       "    <tr>\n",
       "      <th>3624</th>\n",
       "      <td>624431</td>\n",
       "      <td>0</td>\n",
       "      <td>0.166340</td>\n",
       "    </tr>\n",
       "    <tr>\n",
       "      <th>1072</th>\n",
       "      <td>648125</td>\n",
       "      <td>0</td>\n",
       "      <td>0.474534</td>\n",
       "    </tr>\n",
       "  </tbody>\n",
       "</table>\n",
       "</div>"
      ],
      "text/plain": [
       "      Lead Number  Actual  Probabilities\n",
       "728        652531       0       0.114021\n",
       "1711       642146       1       0.297154\n",
       "4100       619533       0       0.147994\n",
       "3624       624431       0       0.166340\n",
       "1072       648125       0       0.474534"
      ]
     },
     "execution_count": 79,
     "metadata": {},
     "output_type": "execute_result"
    }
   ],
   "source": [
    "prob_df.head()"
   ]
  },
  {
   "cell_type": "code",
   "execution_count": 80,
   "metadata": {},
   "outputs": [],
   "source": [
    "# comparing various theresholds with the probabilities and assigning the values as either 1 or zero\n",
    "\n",
    "threshold_list=threshold_list=[i/10 for i in range(0,10)]\n",
    "\n",
    "for i in threshold_list:\n",
    "    prob_df[i]=prob_df['Probabilities'].apply(lambda x:1 if x>=i else 0)"
   ]
  },
  {
   "cell_type": "code",
   "execution_count": 81,
   "metadata": {},
   "outputs": [
    {
     "data": {
      "text/html": [
       "<div>\n",
       "<style scoped>\n",
       "    .dataframe tbody tr th:only-of-type {\n",
       "        vertical-align: middle;\n",
       "    }\n",
       "\n",
       "    .dataframe tbody tr th {\n",
       "        vertical-align: top;\n",
       "    }\n",
       "\n",
       "    .dataframe thead th {\n",
       "        text-align: right;\n",
       "    }\n",
       "</style>\n",
       "<table border=\"1\" class=\"dataframe\">\n",
       "  <thead>\n",
       "    <tr style=\"text-align: right;\">\n",
       "      <th></th>\n",
       "      <th>Lead Number</th>\n",
       "      <th>Actual</th>\n",
       "      <th>Probabilities</th>\n",
       "      <th>0.0</th>\n",
       "      <th>0.1</th>\n",
       "      <th>0.2</th>\n",
       "      <th>0.3</th>\n",
       "      <th>0.4</th>\n",
       "      <th>0.5</th>\n",
       "      <th>0.6</th>\n",
       "      <th>0.7</th>\n",
       "      <th>0.8</th>\n",
       "      <th>0.9</th>\n",
       "    </tr>\n",
       "  </thead>\n",
       "  <tbody>\n",
       "    <tr>\n",
       "      <th>728</th>\n",
       "      <td>652531</td>\n",
       "      <td>0</td>\n",
       "      <td>0.114021</td>\n",
       "      <td>1</td>\n",
       "      <td>1</td>\n",
       "      <td>0</td>\n",
       "      <td>0</td>\n",
       "      <td>0</td>\n",
       "      <td>0</td>\n",
       "      <td>0</td>\n",
       "      <td>0</td>\n",
       "      <td>0</td>\n",
       "      <td>0</td>\n",
       "    </tr>\n",
       "    <tr>\n",
       "      <th>1711</th>\n",
       "      <td>642146</td>\n",
       "      <td>1</td>\n",
       "      <td>0.297154</td>\n",
       "      <td>1</td>\n",
       "      <td>1</td>\n",
       "      <td>1</td>\n",
       "      <td>0</td>\n",
       "      <td>0</td>\n",
       "      <td>0</td>\n",
       "      <td>0</td>\n",
       "      <td>0</td>\n",
       "      <td>0</td>\n",
       "      <td>0</td>\n",
       "    </tr>\n",
       "    <tr>\n",
       "      <th>4100</th>\n",
       "      <td>619533</td>\n",
       "      <td>0</td>\n",
       "      <td>0.147994</td>\n",
       "      <td>1</td>\n",
       "      <td>1</td>\n",
       "      <td>0</td>\n",
       "      <td>0</td>\n",
       "      <td>0</td>\n",
       "      <td>0</td>\n",
       "      <td>0</td>\n",
       "      <td>0</td>\n",
       "      <td>0</td>\n",
       "      <td>0</td>\n",
       "    </tr>\n",
       "    <tr>\n",
       "      <th>3624</th>\n",
       "      <td>624431</td>\n",
       "      <td>0</td>\n",
       "      <td>0.166340</td>\n",
       "      <td>1</td>\n",
       "      <td>1</td>\n",
       "      <td>0</td>\n",
       "      <td>0</td>\n",
       "      <td>0</td>\n",
       "      <td>0</td>\n",
       "      <td>0</td>\n",
       "      <td>0</td>\n",
       "      <td>0</td>\n",
       "      <td>0</td>\n",
       "    </tr>\n",
       "    <tr>\n",
       "      <th>1072</th>\n",
       "      <td>648125</td>\n",
       "      <td>0</td>\n",
       "      <td>0.474534</td>\n",
       "      <td>1</td>\n",
       "      <td>1</td>\n",
       "      <td>1</td>\n",
       "      <td>1</td>\n",
       "      <td>1</td>\n",
       "      <td>0</td>\n",
       "      <td>0</td>\n",
       "      <td>0</td>\n",
       "      <td>0</td>\n",
       "      <td>0</td>\n",
       "    </tr>\n",
       "  </tbody>\n",
       "</table>\n",
       "</div>"
      ],
      "text/plain": [
       "      Lead Number  Actual  Probabilities  0.0  0.1  0.2  0.3  0.4  0.5  0.6  \\\n",
       "728        652531       0       0.114021    1    1    0    0    0    0    0   \n",
       "1711       642146       1       0.297154    1    1    1    0    0    0    0   \n",
       "4100       619533       0       0.147994    1    1    0    0    0    0    0   \n",
       "3624       624431       0       0.166340    1    1    0    0    0    0    0   \n",
       "1072       648125       0       0.474534    1    1    1    1    1    0    0   \n",
       "\n",
       "      0.7  0.8  0.9  \n",
       "728     0    0    0  \n",
       "1711    0    0    0  \n",
       "4100    0    0    0  \n",
       "3624    0    0    0  \n",
       "1072    0    0    0  "
      ]
     },
     "execution_count": 81,
     "metadata": {},
     "output_type": "execute_result"
    }
   ],
   "source": [
    "prob_df.head()"
   ]
  },
  {
   "cell_type": "code",
   "execution_count": 82,
   "metadata": {},
   "outputs": [
    {
     "data": {
      "text/html": [
       "<div>\n",
       "<style scoped>\n",
       "    .dataframe tbody tr th:only-of-type {\n",
       "        vertical-align: middle;\n",
       "    }\n",
       "\n",
       "    .dataframe tbody tr th {\n",
       "        vertical-align: top;\n",
       "    }\n",
       "\n",
       "    .dataframe thead th {\n",
       "        text-align: right;\n",
       "    }\n",
       "</style>\n",
       "<table border=\"1\" class=\"dataframe\">\n",
       "  <thead>\n",
       "    <tr style=\"text-align: right;\">\n",
       "      <th></th>\n",
       "      <th>Threshold</th>\n",
       "      <th>Accuracy</th>\n",
       "      <th>Sensitivity</th>\n",
       "      <th>Specificity</th>\n",
       "    </tr>\n",
       "  </thead>\n",
       "  <tbody>\n",
       "    <tr>\n",
       "      <th>0.0</th>\n",
       "      <td>0</td>\n",
       "      <td>0.379163</td>\n",
       "      <td>1</td>\n",
       "      <td>0</td>\n",
       "    </tr>\n",
       "    <tr>\n",
       "      <th>0.1</th>\n",
       "      <td>0.1</td>\n",
       "      <td>0.44135</td>\n",
       "      <td>0.992227</td>\n",
       "      <td>0.104913</td>\n",
       "    </tr>\n",
       "    <tr>\n",
       "      <th>0.2</th>\n",
       "      <td>0.2</td>\n",
       "      <td>0.603448</td>\n",
       "      <td>0.911387</td>\n",
       "      <td>0.415381</td>\n",
       "    </tr>\n",
       "    <tr>\n",
       "      <th>0.3</th>\n",
       "      <td>0.3</td>\n",
       "      <td>0.782788</td>\n",
       "      <td>0.762145</td>\n",
       "      <td>0.795395</td>\n",
       "    </tr>\n",
       "    <tr>\n",
       "      <th>0.4</th>\n",
       "      <td>0.4</td>\n",
       "      <td>0.790156</td>\n",
       "      <td>0.708511</td>\n",
       "      <td>0.840019</td>\n",
       "    </tr>\n",
       "    <tr>\n",
       "      <th>0.5</th>\n",
       "      <td>0.5</td>\n",
       "      <td>0.779251</td>\n",
       "      <td>0.636611</td>\n",
       "      <td>0.866366</td>\n",
       "    </tr>\n",
       "    <tr>\n",
       "      <th>0.6</th>\n",
       "      <td>0.6</td>\n",
       "      <td>0.752579</td>\n",
       "      <td>0.498251</td>\n",
       "      <td>0.907904</td>\n",
       "    </tr>\n",
       "    <tr>\n",
       "      <th>0.7</th>\n",
       "      <td>0.7</td>\n",
       "      <td>0.727527</td>\n",
       "      <td>0.38049</td>\n",
       "      <td>0.939473</td>\n",
       "    </tr>\n",
       "    <tr>\n",
       "      <th>0.8</th>\n",
       "      <td>0.8</td>\n",
       "      <td>0.702181</td>\n",
       "      <td>0.266226</td>\n",
       "      <td>0.968431</td>\n",
       "    </tr>\n",
       "    <tr>\n",
       "      <th>0.9</th>\n",
       "      <td>0.9</td>\n",
       "      <td>0.676835</td>\n",
       "      <td>0.160124</td>\n",
       "      <td>0.992404</td>\n",
       "    </tr>\n",
       "  </tbody>\n",
       "</table>\n",
       "</div>"
      ],
      "text/plain": [
       "    Threshold  Accuracy Sensitivity Specificity\n",
       "0.0         0  0.379163           1           0\n",
       "0.1       0.1   0.44135    0.992227    0.104913\n",
       "0.2       0.2  0.603448    0.911387    0.415381\n",
       "0.3       0.3  0.782788    0.762145    0.795395\n",
       "0.4       0.4  0.790156    0.708511    0.840019\n",
       "0.5       0.5  0.779251    0.636611    0.866366\n",
       "0.6       0.6  0.752579    0.498251    0.907904\n",
       "0.7       0.7  0.727527     0.38049    0.939473\n",
       "0.8       0.8  0.702181    0.266226    0.968431\n",
       "0.9       0.9  0.676835    0.160124    0.992404"
      ]
     },
     "execution_count": 82,
     "metadata": {},
     "output_type": "execute_result"
    }
   ],
   "source": [
    "# comparing Sensitivity,Accuracy and Specificity for the various thresholds\n",
    "\n",
    "\n",
    "cutoff_df=pd.DataFrame(columns=['Threshold','Accuracy','Sensitivity','Specificity'])\n",
    "\n",
    "for i in threshold_list:\n",
    "    cm=confusion_matrix(prob_df['Actual'],prob_df[i])\n",
    "    TN=cm[0,0]\n",
    "    TP=cm[1,1]\n",
    "    FP=cm[0,1]\n",
    "    FN=cm[1,0]\n",
    "    \n",
    "    cutoff_df.loc[i,'Threshold']=i\n",
    "    cutoff_df.loc[i,'Accuracy']=(TN+TP)/(TN+TP+FP+FN)\n",
    "    cutoff_df.loc[i,'Sensitivity']=TP/(TP+FN)\n",
    "    cutoff_df.loc[i,'Specificity']=TN/(TN+FP)\n",
    "    \n",
    "cutoff_df"
   ]
  },
  {
   "cell_type": "code",
   "execution_count": 83,
   "metadata": {},
   "outputs": [],
   "source": [
    "# converting the values to float\n",
    "cutoff_df=cutoff_df.applymap(lambda x:round(float(x),2))"
   ]
  },
  {
   "cell_type": "code",
   "execution_count": 84,
   "metadata": {},
   "outputs": [
    {
     "data": {
      "image/png": "[encoded data removed]",
      "text/plain": [
       "<Figure size 576x288 with 1 Axes>"
      ]
     },
     "metadata": {
      "needs_background": "light"
     },
     "output_type": "display_data"
    }
   ],
   "source": [
    "# plotting all the values of the cut00ff_df as line plot to get the optimal threshold\n",
    "plt.figure(figsize=[8,4])\n",
    "plt.style.use('ggplot')\n",
    "sns.lineplot(data=cutoff_df,x='Threshold',y='Sensitivity',label='sensi')\n",
    "sns.lineplot(data=cutoff_df,x='Threshold',y='Accuracy',label='accuracy')\n",
    "sns.lineplot(data=cutoff_df,x='Threshold',y='Specificity',color='black',label='speci')\n",
    "\n",
    "plt.legend(loc=[1,0.8])\n",
    "plt.show()"
   ]
  },
  {
   "cell_type": "markdown",
   "metadata": {},
   "source": [
    "now as our cutoff point is between 0.2 and 0.3 , lets elaborate to get the most optimal threshold point"
   ]
  },
  {
   "cell_type": "code",
   "execution_count": 85,
   "metadata": {},
   "outputs": [],
   "source": [
    "threshold_list=threshold_list=[i/100 for i in range(21,30)]\n",
    "\n",
    "for i in threshold_list:\n",
    "    prob_df[i]=prob_df['Probabilities'].apply(lambda x:1 if x>=i else 0)"
   ]
  },
  {
   "cell_type": "code",
   "execution_count": 86,
   "metadata": {},
   "outputs": [
    {
     "data": {
      "text/html": [
       "<div>\n",
       "<style scoped>\n",
       "    .dataframe tbody tr th:only-of-type {\n",
       "        vertical-align: middle;\n",
       "    }\n",
       "\n",
       "    .dataframe tbody tr th {\n",
       "        vertical-align: top;\n",
       "    }\n",
       "\n",
       "    .dataframe thead th {\n",
       "        text-align: right;\n",
       "    }\n",
       "</style>\n",
       "<table border=\"1\" class=\"dataframe\">\n",
       "  <thead>\n",
       "    <tr style=\"text-align: right;\">\n",
       "      <th></th>\n",
       "      <th>Threshold</th>\n",
       "      <th>Accuracy</th>\n",
       "      <th>Sensitivity</th>\n",
       "      <th>Specificity</th>\n",
       "    </tr>\n",
       "  </thead>\n",
       "  <tbody>\n",
       "    <tr>\n",
       "      <th>0.21</th>\n",
       "      <td>0.21</td>\n",
       "      <td>0.709696</td>\n",
       "      <td>0.823164</td>\n",
       "      <td>0.640399</td>\n",
       "    </tr>\n",
       "    <tr>\n",
       "      <th>0.22</th>\n",
       "      <td>0.22</td>\n",
       "      <td>0.721191</td>\n",
       "      <td>0.812281</td>\n",
       "      <td>0.665559</td>\n",
       "    </tr>\n",
       "    <tr>\n",
       "      <th>0.23</th>\n",
       "      <td>0.23</td>\n",
       "      <td>0.732538</td>\n",
       "      <td>0.800622</td>\n",
       "      <td>0.690957</td>\n",
       "    </tr>\n",
       "    <tr>\n",
       "      <th>0.24</th>\n",
       "      <td>0.24</td>\n",
       "      <td>0.742558</td>\n",
       "      <td>0.793626</td>\n",
       "      <td>0.71137</td>\n",
       "    </tr>\n",
       "    <tr>\n",
       "      <th>0.25</th>\n",
       "      <td>0.25</td>\n",
       "      <td>0.755526</td>\n",
       "      <td>0.790128</td>\n",
       "      <td>0.734394</td>\n",
       "    </tr>\n",
       "    <tr>\n",
       "      <th>0.26</th>\n",
       "      <td>0.26</td>\n",
       "      <td>0.764073</td>\n",
       "      <td>0.78391</td>\n",
       "      <td>0.751958</td>\n",
       "    </tr>\n",
       "    <tr>\n",
       "      <th>0.27</th>\n",
       "      <td>0.27</td>\n",
       "      <td>0.770115</td>\n",
       "      <td>0.777691</td>\n",
       "      <td>0.765488</td>\n",
       "    </tr>\n",
       "    <tr>\n",
       "      <th>0.28</th>\n",
       "      <td>0.28</td>\n",
       "      <td>0.776009</td>\n",
       "      <td>0.771862</td>\n",
       "      <td>0.778543</td>\n",
       "    </tr>\n",
       "    <tr>\n",
       "      <th>0.29</th>\n",
       "      <td>0.29</td>\n",
       "      <td>0.780872</td>\n",
       "      <td>0.767586</td>\n",
       "      <td>0.788986</td>\n",
       "    </tr>\n",
       "  </tbody>\n",
       "</table>\n",
       "</div>"
      ],
      "text/plain": [
       "     Threshold  Accuracy Sensitivity Specificity\n",
       "0.21      0.21  0.709696    0.823164    0.640399\n",
       "0.22      0.22  0.721191    0.812281    0.665559\n",
       "0.23      0.23  0.732538    0.800622    0.690957\n",
       "0.24      0.24  0.742558    0.793626     0.71137\n",
       "0.25      0.25  0.755526    0.790128    0.734394\n",
       "0.26      0.26  0.764073     0.78391    0.751958\n",
       "0.27      0.27  0.770115    0.777691    0.765488\n",
       "0.28      0.28  0.776009    0.771862    0.778543\n",
       "0.29      0.29  0.780872    0.767586    0.788986"
      ]
     },
     "execution_count": 86,
     "metadata": {},
     "output_type": "execute_result"
    }
   ],
   "source": [
    "# comparing Sensitivity,Accuracy and Specificity for the various thresholds between 0.21 and 0.3\n",
    "\n",
    "\n",
    "cutoff_df=pd.DataFrame(columns=['Threshold','Accuracy','Sensitivity','Specificity'])\n",
    "\n",
    "for i in threshold_list:\n",
    "    cm=confusion_matrix(prob_df['Actual'],prob_df[i])\n",
    "    TN=cm[0,0]\n",
    "    TP=cm[1,1]\n",
    "    FP=cm[0,1]\n",
    "    FN=cm[1,0]\n",
    "    \n",
    "    cutoff_df.loc[i,'Threshold']=i\n",
    "    cutoff_df.loc[i,'Accuracy']=(TN+TP)/(TN+TP+FP+FN)\n",
    "    cutoff_df.loc[i,'Sensitivity']=TP/(TP+FN)\n",
    "    cutoff_df.loc[i,'Specificity']=TN/(TN+FP)\n",
    "    \n",
    "cutoff_df"
   ]
  },
  {
   "cell_type": "markdown",
   "metadata": {},
   "source": [
    "from the above dataframe we can see that the optimal point is 0.25"
   ]
  },
  {
   "cell_type": "code",
   "execution_count": 87,
   "metadata": {},
   "outputs": [],
   "source": [
    "# creating a confusion matrix and getting the metrics for the predictions\n",
    "cm=confusion_matrix(prob_df['Actual'],prob_df[0.25])\n",
    "TN=cm[0,0]\n",
    "TP=cm[1,1]\n",
    "FP=cm[0,1]\n",
    "FN=cm[1,0]\n",
    "\n",
    "Accuracy=(TN+TP)/(TN+TP+FP+FN)\n",
    "Sensitivity=TP/float(TP+FN)\n",
    "Specificity=TN/(TN+FP)"
   ]
  },
  {
   "cell_type": "code",
   "execution_count": 88,
   "metadata": {},
   "outputs": [
    {
     "name": "stdout",
     "output_type": "stream",
     "text": [
      "Accuracy for Train set is  76.0 %\n",
      "Sensitivity for Train set is 79.0 %\n",
      "Specificity for Train set is 73.0 %\n"
     ]
    }
   ],
   "source": [
    "\n",
    "print('Accuracy for Train set is ',f'{round(Accuracy,2)*100} %')\n",
    "print('Sensitivity for Train set is',f'{round(Sensitivity,2)*100 } %')\n",
    "print('Specificity for Train set is' ,f'{round(Specificity,2)*100} %')"
   ]
  },
  {
   "cell_type": "markdown",
   "metadata": {},
   "source": [
    "###  Plotting the ROC (Residual Optimaization curve)"
   ]
  },
  {
   "cell_type": "code",
   "execution_count": 89,
   "metadata": {},
   "outputs": [],
   "source": [
    "def draw_roc(actual,prob):\n",
    "    plt.style.use('ggplot')\n",
    "    fpr,tpr,threshold=roc_curve(actual,prob)\n",
    "    auc_score=roc_auc_score(actual,prob)\n",
    "    plt.plot(fpr,tpr,label=f'Roc Curve(area={round(auc_score,2)}')\n",
    "             \n",
    "    \n",
    "    plt.plot([0,1],[0,1],'k--')\n",
    "    plt.ylabel('True Positive Rate')\n",
    "    plt.xlabel('False Positive Rate')\n",
    "    plt.suptitle('Reciever Operating Characteristic Example')\n",
    "    \n",
    "    plt.legend(loc='lower right')\n",
    "    \n",
    "    return None"
   ]
  },
  {
   "cell_type": "code",
   "execution_count": 90,
   "metadata": {},
   "outputs": [
    {
     "data": {
      "image/png": "[encoded data removed]",
      "text/plain": [
       "<Figure size 432x288 with 1 Axes>"
      ]
     },
     "metadata": {},
     "output_type": "display_data"
    }
   ],
   "source": [
    "draw_roc(y,y_pred)"
   ]
  },
  {
   "cell_type": "markdown",
   "metadata": {},
   "source": [
    "## Genertaing The score for the lead based on the probabilities we have obtained"
   ]
  },
  {
   "cell_type": "code",
   "execution_count": 91,
   "metadata": {},
   "outputs": [
    {
     "data": {
      "text/html": [
       "<div>\n",
       "<style scoped>\n",
       "    .dataframe tbody tr th:only-of-type {\n",
       "        vertical-align: middle;\n",
       "    }\n",
       "\n",
       "    .dataframe tbody tr th {\n",
       "        vertical-align: top;\n",
       "    }\n",
       "\n",
       "    .dataframe thead th {\n",
       "        text-align: right;\n",
       "    }\n",
       "</style>\n",
       "<table border=\"1\" class=\"dataframe\">\n",
       "  <thead>\n",
       "    <tr style=\"text-align: right;\">\n",
       "      <th></th>\n",
       "      <th>Lead Number</th>\n",
       "      <th>Probabilities</th>\n",
       "      <th>Score</th>\n",
       "    </tr>\n",
       "  </thead>\n",
       "  <tbody>\n",
       "    <tr>\n",
       "      <th>728</th>\n",
       "      <td>652531</td>\n",
       "      <td>0.114021</td>\n",
       "      <td>11.402134</td>\n",
       "    </tr>\n",
       "    <tr>\n",
       "      <th>1711</th>\n",
       "      <td>642146</td>\n",
       "      <td>0.297154</td>\n",
       "      <td>29.715431</td>\n",
       "    </tr>\n",
       "    <tr>\n",
       "      <th>4100</th>\n",
       "      <td>619533</td>\n",
       "      <td>0.147994</td>\n",
       "      <td>14.799435</td>\n",
       "    </tr>\n",
       "    <tr>\n",
       "      <th>3624</th>\n",
       "      <td>624431</td>\n",
       "      <td>0.166340</td>\n",
       "      <td>16.634009</td>\n",
       "    </tr>\n",
       "    <tr>\n",
       "      <th>1072</th>\n",
       "      <td>648125</td>\n",
       "      <td>0.474534</td>\n",
       "      <td>47.453372</td>\n",
       "    </tr>\n",
       "  </tbody>\n",
       "</table>\n",
       "</div>"
      ],
      "text/plain": [
       "      Lead Number  Probabilities      Score\n",
       "728        652531       0.114021  11.402134\n",
       "1711       642146       0.297154  29.715431\n",
       "4100       619533       0.147994  14.799435\n",
       "3624       624431       0.166340  16.634009\n",
       "1072       648125       0.474534  47.453372"
      ]
     },
     "execution_count": 91,
     "metadata": {},
     "output_type": "execute_result"
    }
   ],
   "source": [
    "# i will multiply the obtained predicted probabilities with 100 to get the score\n",
    "prob_df['Score']=prob_df['Probabilities'].apply(lambda x:x*100)\n",
    "prob_df[['Lead Number','Probabilities','Score']].head()"
   ]
  },
  {
   "cell_type": "markdown",
   "metadata": {},
   "source": [
    "### Making the predictions on Test dataset"
   ]
  },
  {
   "cell_type": "markdown",
   "metadata": {},
   "source": [
    "### scaling of numerical variables"
   ]
  },
  {
   "cell_type": "code",
   "execution_count": 92,
   "metadata": {},
   "outputs": [],
   "source": [
    "\n",
    "leadstest[num_cols]=scaler.transform(leadstest[num_cols])"
   ]
  },
  {
   "cell_type": "code",
   "execution_count": 93,
   "metadata": {},
   "outputs": [
    {
     "data": {
      "text/html": [
       "<div>\n",
       "<style scoped>\n",
       "    .dataframe tbody tr th:only-of-type {\n",
       "        vertical-align: middle;\n",
       "    }\n",
       "\n",
       "    .dataframe tbody tr th {\n",
       "        vertical-align: top;\n",
       "    }\n",
       "\n",
       "    .dataframe thead th {\n",
       "        text-align: right;\n",
       "    }\n",
       "</style>\n",
       "<table border=\"1\" class=\"dataframe\">\n",
       "  <thead>\n",
       "    <tr style=\"text-align: right;\">\n",
       "      <th></th>\n",
       "      <th>Total Time Spent on Website</th>\n",
       "      <th>TotalVisits</th>\n",
       "      <th>Page Views Per Visit</th>\n",
       "    </tr>\n",
       "  </thead>\n",
       "  <tbody>\n",
       "    <tr>\n",
       "      <th>count</th>\n",
       "      <td>2262.000000</td>\n",
       "      <td>2262.000000</td>\n",
       "      <td>2262.000000</td>\n",
       "    </tr>\n",
       "    <tr>\n",
       "      <th>mean</th>\n",
       "      <td>0.045566</td>\n",
       "      <td>0.013237</td>\n",
       "      <td>0.024227</td>\n",
       "    </tr>\n",
       "    <tr>\n",
       "      <th>std</th>\n",
       "      <td>1.018828</td>\n",
       "      <td>1.009466</td>\n",
       "      <td>1.012750</td>\n",
       "    </tr>\n",
       "    <tr>\n",
       "      <th>min</th>\n",
       "      <td>-0.878340</td>\n",
       "      <td>-1.009927</td>\n",
       "      <td>-1.143645</td>\n",
       "    </tr>\n",
       "    <tr>\n",
       "      <th>25%</th>\n",
       "      <td>-0.848866</td>\n",
       "      <td>-0.705441</td>\n",
       "      <td>-0.654512</td>\n",
       "    </tr>\n",
       "    <tr>\n",
       "      <th>50%</th>\n",
       "      <td>-0.412285</td>\n",
       "      <td>-0.096470</td>\n",
       "      <td>-0.165380</td>\n",
       "    </tr>\n",
       "    <tr>\n",
       "      <th>75%</th>\n",
       "      <td>0.909893</td>\n",
       "      <td>0.512501</td>\n",
       "      <td>0.323753</td>\n",
       "    </tr>\n",
       "    <tr>\n",
       "      <th>max</th>\n",
       "      <td>3.306944</td>\n",
       "      <td>6.602213</td>\n",
       "      <td>6.193345</td>\n",
       "    </tr>\n",
       "  </tbody>\n",
       "</table>\n",
       "</div>"
      ],
      "text/plain": [
       "       Total Time Spent on Website  TotalVisits  Page Views Per Visit\n",
       "count                  2262.000000  2262.000000           2262.000000\n",
       "mean                      0.045566     0.013237              0.024227\n",
       "std                       1.018828     1.009466              1.012750\n",
       "min                      -0.878340    -1.009927             -1.143645\n",
       "25%                      -0.848866    -0.705441             -0.654512\n",
       "50%                      -0.412285    -0.096470             -0.165380\n",
       "75%                       0.909893     0.512501              0.323753\n",
       "max                       3.306944     6.602213              6.193345"
      ]
     },
     "execution_count": 93,
     "metadata": {},
     "output_type": "execute_result"
    }
   ],
   "source": [
    "leadstest[num_cols].describe()"
   ]
  },
  {
   "cell_type": "code",
   "execution_count": 94,
   "metadata": {},
   "outputs": [],
   "source": [
    "# seggregating the dataset into dependant and independant variable for furhter analysis\n",
    "ytest=leadstest.pop('Converted')\n",
    "Xtest=leadstest.iloc[:,1:]"
   ]
  },
  {
   "cell_type": "code",
   "execution_count": 95,
   "metadata": {},
   "outputs": [],
   "source": [
    "# finding the probability using the finalmodel and predict\n",
    "\n",
    "ytest_pred=finalmodel.predict(sm.add_constant(Xtest[columns]))"
   ]
  },
  {
   "cell_type": "code",
   "execution_count": 96,
   "metadata": {},
   "outputs": [],
   "source": [
    "# creating the testprob_df\n",
    "testprob_df=pd.DataFrame()\n",
    "testprob_df['Lead Number']=leadstest['Lead Number']\n",
    "testprob_df['Actual']=ytest\n",
    "\n",
    "\n",
    "testprob_df['Probabilities']=ytest_pred"
   ]
  },
  {
   "cell_type": "code",
   "execution_count": 97,
   "metadata": {},
   "outputs": [],
   "source": [
    "# comparing with our threshold of 0.3 and then classifying them\n",
    "testprob_df['Predictions']=testprob_df['Probabilities'].apply(lambda x:1 if x>=0.25 else 0)"
   ]
  },
  {
   "cell_type": "code",
   "execution_count": 98,
   "metadata": {},
   "outputs": [
    {
     "data": {
      "text/html": [
       "<div>\n",
       "<style scoped>\n",
       "    .dataframe tbody tr th:only-of-type {\n",
       "        vertical-align: middle;\n",
       "    }\n",
       "\n",
       "    .dataframe tbody tr th {\n",
       "        vertical-align: top;\n",
       "    }\n",
       "\n",
       "    .dataframe thead th {\n",
       "        text-align: right;\n",
       "    }\n",
       "</style>\n",
       "<table border=\"1\" class=\"dataframe\">\n",
       "  <thead>\n",
       "    <tr style=\"text-align: right;\">\n",
       "      <th></th>\n",
       "      <th>Lead Number</th>\n",
       "      <th>Actual</th>\n",
       "      <th>Probabilities</th>\n",
       "      <th>Predictions</th>\n",
       "    </tr>\n",
       "  </thead>\n",
       "  <tbody>\n",
       "    <tr>\n",
       "      <th>4356</th>\n",
       "      <td>616820</td>\n",
       "      <td>1</td>\n",
       "      <td>0.517234</td>\n",
       "      <td>1</td>\n",
       "    </tr>\n",
       "    <tr>\n",
       "      <th>5124</th>\n",
       "      <td>609561</td>\n",
       "      <td>0</td>\n",
       "      <td>0.128471</td>\n",
       "      <td>0</td>\n",
       "    </tr>\n",
       "    <tr>\n",
       "      <th>4489</th>\n",
       "      <td>615707</td>\n",
       "      <td>1</td>\n",
       "      <td>0.277824</td>\n",
       "      <td>1</td>\n",
       "    </tr>\n",
       "    <tr>\n",
       "      <th>4570</th>\n",
       "      <td>614849</td>\n",
       "      <td>1</td>\n",
       "      <td>0.991028</td>\n",
       "      <td>1</td>\n",
       "    </tr>\n",
       "    <tr>\n",
       "      <th>5234</th>\n",
       "      <td>608760</td>\n",
       "      <td>0</td>\n",
       "      <td>0.201838</td>\n",
       "      <td>0</td>\n",
       "    </tr>\n",
       "  </tbody>\n",
       "</table>\n",
       "</div>"
      ],
      "text/plain": [
       "      Lead Number  Actual  Probabilities  Predictions\n",
       "4356       616820       1       0.517234            1\n",
       "5124       609561       0       0.128471            0\n",
       "4489       615707       1       0.277824            1\n",
       "4570       614849       1       0.991028            1\n",
       "5234       608760       0       0.201838            0"
      ]
     },
     "execution_count": 98,
     "metadata": {},
     "output_type": "execute_result"
    }
   ],
   "source": [
    "testprob_df.head()"
   ]
  },
  {
   "cell_type": "markdown",
   "metadata": {},
   "source": [
    "Checking for the Metrics and then checking the stability of the model"
   ]
  },
  {
   "cell_type": "code",
   "execution_count": 99,
   "metadata": {},
   "outputs": [],
   "source": [
    "# creating a confusion matrix\n",
    "testcm=confusion_matrix(testprob_df['Actual'],testprob_df['Predictions'])\n",
    "TN=testcm[0,0]\n",
    "TP=testcm[1,1]\n",
    "FP=testcm[0,1]\n",
    "FN=testcm[1,0]\n",
    "\n",
    "Accuracy=(TN+TP)/(TN+TP+FP+FN)\n",
    "Sensitivity=TP/(TP+FN)\n",
    "Specificity=TN/(TN+FP)"
   ]
  },
  {
   "cell_type": "code",
   "execution_count": 100,
   "metadata": {},
   "outputs": [
    {
     "name": "stdout",
     "output_type": "stream",
     "text": [
      "Accuracy for Test set is  75.0 %\n",
      "Sensitivity for Test set is 80.0 %\n",
      "Specificity for Test set is 73.0 %\n"
     ]
    }
   ],
   "source": [
    "print('Accuracy for Test set is ',f'{round(Accuracy,2)*100} %')\n",
    "print('Sensitivity for Test set is',f'{round(Sensitivity,2)*100} %')\n",
    "print('Specificity for Test set is' ,f'{round(Specificity,2)*100} %')"
   ]
  },
  {
   "cell_type": "code",
   "execution_count": 101,
   "metadata": {},
   "outputs": [
    {
     "data": {
      "image/png": "[encoded data removed]",
      "text/plain": [
       "<Figure size 432x288 with 1 Axes>"
      ]
     },
     "metadata": {},
     "output_type": "display_data"
    }
   ],
   "source": [
    "draw_roc(ytest,ytest_pred)"
   ]
  },
  {
   "cell_type": "markdown",
   "metadata": {},
   "source": [
    "### Finding the score of the test leads based on the Predicted probabilities"
   ]
  },
  {
   "cell_type": "code",
   "execution_count": 102,
   "metadata": {},
   "outputs": [
    {
     "data": {
      "text/html": [
       "<div>\n",
       "<style scoped>\n",
       "    .dataframe tbody tr th:only-of-type {\n",
       "        vertical-align: middle;\n",
       "    }\n",
       "\n",
       "    .dataframe tbody tr th {\n",
       "        vertical-align: top;\n",
       "    }\n",
       "\n",
       "    .dataframe thead th {\n",
       "        text-align: right;\n",
       "    }\n",
       "</style>\n",
       "<table border=\"1\" class=\"dataframe\">\n",
       "  <thead>\n",
       "    <tr style=\"text-align: right;\">\n",
       "      <th></th>\n",
       "      <th>Lead Number</th>\n",
       "      <th>Actual</th>\n",
       "      <th>Probabilities</th>\n",
       "      <th>Predictions</th>\n",
       "      <th>Score</th>\n",
       "    </tr>\n",
       "  </thead>\n",
       "  <tbody>\n",
       "    <tr>\n",
       "      <th>4356</th>\n",
       "      <td>616820</td>\n",
       "      <td>1</td>\n",
       "      <td>0.517234</td>\n",
       "      <td>1</td>\n",
       "      <td>51.723427</td>\n",
       "    </tr>\n",
       "    <tr>\n",
       "      <th>5124</th>\n",
       "      <td>609561</td>\n",
       "      <td>0</td>\n",
       "      <td>0.128471</td>\n",
       "      <td>0</td>\n",
       "      <td>12.847087</td>\n",
       "    </tr>\n",
       "    <tr>\n",
       "      <th>4489</th>\n",
       "      <td>615707</td>\n",
       "      <td>1</td>\n",
       "      <td>0.277824</td>\n",
       "      <td>1</td>\n",
       "      <td>27.782440</td>\n",
       "    </tr>\n",
       "    <tr>\n",
       "      <th>4570</th>\n",
       "      <td>614849</td>\n",
       "      <td>1</td>\n",
       "      <td>0.991028</td>\n",
       "      <td>1</td>\n",
       "      <td>99.102829</td>\n",
       "    </tr>\n",
       "    <tr>\n",
       "      <th>5234</th>\n",
       "      <td>608760</td>\n",
       "      <td>0</td>\n",
       "      <td>0.201838</td>\n",
       "      <td>0</td>\n",
       "      <td>20.183773</td>\n",
       "    </tr>\n",
       "  </tbody>\n",
       "</table>\n",
       "</div>"
      ],
      "text/plain": [
       "      Lead Number  Actual  Probabilities  Predictions      Score\n",
       "4356       616820       1       0.517234            1  51.723427\n",
       "5124       609561       0       0.128471            0  12.847087\n",
       "4489       615707       1       0.277824            1  27.782440\n",
       "4570       614849       1       0.991028            1  99.102829\n",
       "5234       608760       0       0.201838            0  20.183773"
      ]
     },
     "execution_count": 102,
     "metadata": {},
     "output_type": "execute_result"
    }
   ],
   "source": [
    "\n",
    "testprob_df['Score']=testprob_df['Probabilities'].apply(lambda x:x*100)\n",
    "testprob_df.head()"
   ]
  },
  {
   "cell_type": "markdown",
   "metadata": {},
   "source": [
    "## Conclusion\n",
    "It was found that the variables that mattered the most in the potential buyers are  :\n",
    "1.\tThe total time spend on the Website.\n",
    "2.\tTotal number of visits.\n",
    "3.\tWhen the lead source was: <br>\n",
    "a.\tGoogle<br>\n",
    "b.\tDirect traffic<br>\n",
    "c.\tOrganic search<br>\n",
    "d.\tWelingak website<br>\n",
    "4.\tWhen the last activity was:<br>\n",
    "a.\tSMS<br>\n",
    "b.\tOlark chat conversation<br>\n",
    "5.\tWhen their current occupation is as a working professional.<br>\n",
    "Keeping these in mind the X Education can flourish as they have a very high chance to get almost all the potential buyers to change their mind and buy their courses"
   ]
  }
 ],
 "metadata": {
  "kernelspec": {
   "display_name": "Python 3",
   "language": "python",
   "name": "python3"
  },
  "language_info": {
   "codemirror_mode": {
    "name": "ipython",
    "version": 3
   },
   "file_extension": ".py",
   "mimetype": "text/x-python",
   "name": "python",
   "nbconvert_exporter": "python",
   "pygments_lexer": "ipython3",
   "version": "3.8.5"
  }
 },
 "nbformat": 4,
 "nbformat_minor": 4
}
