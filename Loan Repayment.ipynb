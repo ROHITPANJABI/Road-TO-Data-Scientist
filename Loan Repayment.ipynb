{
 "cells": [
  {
   "cell_type": "code",
   "execution_count": 4,
   "metadata": {},
   "outputs": [
    {
     "name": "stdout",
     "output_type": "stream",
     "text": [
      "     Month No. Payment Date Month-Year  EMI (₹)  Principal Paid (₹)  \\\n",
      "0            1      2022-04    2022-04    15399                5646   \n",
      "1            2      2022-05    2022-05    15399                5709   \n",
      "2            3      2022-06    2022-06    15399                5773   \n",
      "3            4      2022-07    2022-07    15399                5837   \n",
      "4            5      2022-08    2022-08    15399                5902   \n",
      "..         ...          ...        ...      ...                 ...   \n",
      "99         100      2030-07    2030-07    15399               14822   \n",
      "100        101      2030-08    2030-08    15399               14952   \n",
      "101        102      2030-09    2030-09    15399               15084   \n",
      "102        103      2030-10    2030-10    15399               15217   \n",
      "103        104      2030-11    2030-11     6716                6667   \n",
      "\n",
      "     Interest Paid (₹)  Prepayment (₹)  Remaining Balance (₹)  \n",
      "0                 9753            3000                1321354  \n",
      "1                 9690            3000                1312645  \n",
      "2                 9626            3000                1303872  \n",
      "3                 9562            3000                1295035  \n",
      "4                 9497            3000                1286133  \n",
      "..                 ...             ...                    ...  \n",
      "99                 577            3000                  60920  \n",
      "100                447            3000                  42967  \n",
      "101                315            3000                  24884  \n",
      "102                182            3000                   6667  \n",
      "103                 49               0                      0  \n",
      "\n",
      "[104 rows x 8 columns]\n",
      "\n",
      "Total Loan Duration: 104 months (2030-11)\n",
      "Total Interest Paid: ₹571,816.00\n",
      "None\n"
     ]
    }
   ],
   "source": [
    "import pandas as pd"
   ]
  },
  {
   "cell_type": "code",
   "execution_count": null,
   "metadata": {},
   "outputs": [],
   "source": [
    "\n",
    "\n",
    "def loan_repayment_schedule(loan_amount, annual_interest_rate, emi, prepayment, start_year=2022, start_month=3):\n",
    "    monthly_interest_rate = (annual_interest_rate / 100) / 12\n",
    "    remaining_balance = loan_amount\n",
    "    month = 0\n",
    "    schedule = []\n",
    "    \n",
    "    while remaining_balance > 0:\n",
    "        month += 1\n",
    "        interest = remaining_balance * monthly_interest_rate\n",
    "        principal = emi - interest\n",
    "\n",
    "        if remaining_balance < emi:\n",
    "            emi = remaining_balance + interest\n",
    "            principal = remaining_balance\n",
    "            prepayment = 0  # No extra prepayment needed in the last month\n",
    "        else:\n",
    "            prepayment = min(prepayment, remaining_balance - principal)  # Ensure we don't overpay\n",
    "\n",
    "        total_principal_paid = principal + prepayment\n",
    "        remaining_balance -= total_principal_paid\n",
    "\n",
    "        # Calculate payment date\n",
    "        year = start_year + (start_month + month - 1) // 12\n",
    "        month_display = (start_month + month - 1) % 12 + 1\n",
    "        payment_date = f\"{year}-{month_display:02d}\"\n",
    "        month_year_display = f\"{year}-{month_display:02d}\"  # Month-wise breakdown\n",
    "\n",
    "        # Store data for schedule\n",
    "        schedule.append([month, payment_date, month_year_display, round(emi), round(principal), round(interest), round(prepayment), round(remaining_balance)])\n",
    "    \n",
    "    # Convert to DataFrame\n",
    "    columns = [\"Month No.\", \"Payment Date\", \"Month-Year\", \"EMI (₹)\", \"Principal Paid (₹)\", \"Interest Paid (₹)\", \"Prepayment (₹)\", \"Remaining Balance (₹)\"]\n",
    "    df = pd.DataFrame(schedule, columns=columns)\n",
    "    \n",
    "    # Display results\n",
    "    print(df)\n",
    "    print(f\"\\nTotal Loan Duration: {len(df)} months ({df.iloc[-1, 1]})\")\n",
    "    print(f\"Total Interest Paid: ₹{df['Interest Paid (₹)'].sum():,.2f}\")\n"
   ]
  },
  {
   "cell_type": "code",
   "execution_count": null,
   "metadata": {},
   "outputs": [],
   "source": [
    "\n",
    "# Example Usage\n",
    "loan_amount = 1330000\n",
    "annual_interest_rate = 8.8\n",
    "emi = 15399  # Regular EMI\n",
    "prepayment = 3000  # Extra prepayment\n",
    "\n",
    "print(loan_repayment_schedule(loan_amount, annual_interest_rate, emi, prepayment))"
   ]
  }
 ],
 "metadata": {
  "kernelspec": {
   "display_name": "Python 3",
   "language": "python",
   "name": "python3"
  },
  "language_info": {
   "codemirror_mode": {
    "name": "ipython",
    "version": 3
   },
   "file_extension": ".py",
   "mimetype": "text/x-python",
   "name": "python",
   "nbconvert_exporter": "python",
   "pygments_lexer": "ipython3",
   "version": "3.11.9"
  }
 },
 "nbformat": 4,
 "nbformat_minor": 2
}
